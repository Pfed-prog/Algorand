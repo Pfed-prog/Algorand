{
 "cells": [
  {
   "cell_type": "code",
   "execution_count": 164,
   "metadata": {},
   "outputs": [],
   "source": [
    "import glob, os, json\n",
    "\n",
    "import pandas as pd\n",
    "import numpy as np\n",
    "\n",
    "import plotly.express as px\n",
    "\n",
    "pd.set_option('display.max_columns', 35)\n",
    "pd.set_option('display.max_colwidth', None)\n",
    "\n",
    "\n",
    "import warnings\n",
    "warnings.filterwarnings(\"ignore\")"
   ]
  },
  {
   "cell_type": "code",
   "execution_count": 165,
   "metadata": {},
   "outputs": [],
   "source": [
    "# https://towardsdatascience.com/how-to-convert-json-into-a-pandas-dataframe-100b2ae1e0d8\n",
    "\n",
    "json_dir = os.getcwd() +'/data/'\n",
    "\n",
    "json_pattern = os.path.join(json_dir, '*.json')\n",
    "file_list = glob.glob(json_pattern)\n",
    "\n",
    "dfs = []\n",
    "\n",
    "for file in file_list:\n",
    "    with open(file) as f:\n",
    "        json_data = pd.json_normalize(json.loads(f.read()))\n",
    "    dfs.append(json_data)\n",
    "\n",
    "df = pd.concat(dfs)"
   ]
  },
  {
   "cell_type": "code",
   "execution_count": 166,
   "metadata": {},
   "outputs": [],
   "source": [
    "# convert to fees to Algo, tx amount to more widely known USDC format \n",
    "df.fee = df.fee / 1000000\n",
    "df['asset-transfer-transaction.amount'] = df['asset-transfer-transaction.amount'] / 1000000"
   ]
  },
  {
   "cell_type": "markdown",
   "metadata": {},
   "source": [
    "## EDA"
   ]
  },
  {
   "cell_type": "code",
   "execution_count": 167,
   "metadata": {},
   "outputs": [
    {
     "data": {
      "text/plain": [
       "(66855, 32)"
      ]
     },
     "execution_count": 167,
     "metadata": {},
     "output_type": "execute_result"
    }
   ],
   "source": [
    "df.shape"
   ]
  },
  {
   "cell_type": "code",
   "execution_count": 168,
   "metadata": {},
   "outputs": [
    {
     "data": {
      "text/plain": [
       "62247"
      ]
     },
     "execution_count": 168,
     "metadata": {},
     "output_type": "execute_result"
    }
   ],
   "source": [
    "# Number of Unique Rounds in the data\n",
    "df['confirmed-round'].nunique()"
   ]
  },
  {
   "cell_type": "code",
   "execution_count": 169,
   "metadata": {
    "scrolled": true
   },
   "outputs": [
    {
     "data": {
      "text/html": [
       "<div>\n",
       "<style scoped>\n",
       "    .dataframe tbody tr th:only-of-type {\n",
       "        vertical-align: middle;\n",
       "    }\n",
       "\n",
       "    .dataframe tbody tr th {\n",
       "        vertical-align: top;\n",
       "    }\n",
       "\n",
       "    .dataframe thead th {\n",
       "        text-align: right;\n",
       "    }\n",
       "</style>\n",
       "<table border=\"1\" class=\"dataframe\">\n",
       "  <thead>\n",
       "    <tr style=\"text-align: right;\">\n",
       "      <th></th>\n",
       "      <th>close-rewards</th>\n",
       "      <th>closing-amount</th>\n",
       "      <th>confirmed-round</th>\n",
       "      <th>fee</th>\n",
       "      <th>first-valid</th>\n",
       "      <th>genesis-hash</th>\n",
       "      <th>id</th>\n",
       "      <th>intra-round-offset</th>\n",
       "      <th>last-valid</th>\n",
       "      <th>lease</th>\n",
       "      <th>receiver-rewards</th>\n",
       "      <th>round-time</th>\n",
       "      <th>sender</th>\n",
       "      <th>sender-rewards</th>\n",
       "      <th>tx-type</th>\n",
       "      <th>asset-transfer-transaction.amount</th>\n",
       "      <th>asset-transfer-transaction.asset-id</th>\n",
       "      <th>asset-transfer-transaction.close-amount</th>\n",
       "      <th>asset-transfer-transaction.receiver</th>\n",
       "      <th>signature.sig</th>\n",
       "      <th>signature.logicsig.args</th>\n",
       "      <th>signature.logicsig.logic</th>\n",
       "      <th>signature.logicsig.multisig-signature.subsignature</th>\n",
       "      <th>signature.logicsig.multisig-signature.threshold</th>\n",
       "      <th>signature.logicsig.multisig-signature.version</th>\n",
       "      <th>genesis-id</th>\n",
       "      <th>group</th>\n",
       "      <th>note</th>\n",
       "      <th>signature.multisig.subsignature</th>\n",
       "      <th>signature.multisig.threshold</th>\n",
       "      <th>signature.multisig.version</th>\n",
       "      <th>asset-transfer-transaction.close-to</th>\n",
       "    </tr>\n",
       "  </thead>\n",
       "  <tbody>\n",
       "    <tr>\n",
       "      <th>0</th>\n",
       "      <td>0</td>\n",
       "      <td>0</td>\n",
       "      <td>14651056</td>\n",
       "      <td>0.001</td>\n",
       "      <td>14651052</td>\n",
       "      <td>wGHE2Pwdvd7S12BL5FaOP20EGYesN73ktiC1qzkkit8=</td>\n",
       "      <td>77V5EVCRQ4AYXZTB6EXNVHYCY3F7ZD5MZ4AV6S3MCD5E5F3ICMPQ</td>\n",
       "      <td>27</td>\n",
       "      <td>14652052</td>\n",
       "      <td>6D8z9AsoLigs2gwedoUijR3ftp5J7TS3/K9Oh69K3Ds=</td>\n",
       "      <td>0</td>\n",
       "      <td>1624721750</td>\n",
       "      <td>ZG54ZBZ5LVWV3MTGOPDSKCBL5LEQTAPUTN5OQQZUMTAYV3JIICA7G3RJZE</td>\n",
       "      <td>997</td>\n",
       "      <td>axfer</td>\n",
       "      <td>9208.99</td>\n",
       "      <td>31566704</td>\n",
       "      <td>0</td>\n",
       "      <td>2UEQTE5QDNXPI7M3TU44G6SYKLFWLPQO7EBZM7K7MHMQQMFI4QJPLHQFHM</td>\n",
       "      <td>XC79J+JKOQkCKnOPOHG0eYGUbOMNvVkMy2j7pceiklI5fVMY1W/jWLBFIsFicY/wc2BsCdEJE4ZAej2QkewdBA==</td>\n",
       "      <td>NaN</td>\n",
       "      <td>NaN</td>\n",
       "      <td>NaN</td>\n",
       "      <td>NaN</td>\n",
       "      <td>NaN</td>\n",
       "      <td>NaN</td>\n",
       "      <td>NaN</td>\n",
       "      <td>NaN</td>\n",
       "      <td>NaN</td>\n",
       "      <td>NaN</td>\n",
       "      <td>NaN</td>\n",
       "      <td>NaN</td>\n",
       "    </tr>\n",
       "    <tr>\n",
       "      <th>1</th>\n",
       "      <td>0</td>\n",
       "      <td>0</td>\n",
       "      <td>14651197</td>\n",
       "      <td>0.001</td>\n",
       "      <td>14651194</td>\n",
       "      <td>wGHE2Pwdvd7S12BL5FaOP20EGYesN73ktiC1qzkkit8=</td>\n",
       "      <td>IRBAPPLBLYPFFMJXLJ7Y4LTUNKZUBROKQYTPSVEFDHDMT6ZA4DTQ</td>\n",
       "      <td>47</td>\n",
       "      <td>14652194</td>\n",
       "      <td>ObB+0T90MuHTDASCHI2R7Y3iaGLIxYhvl/yJWIkBuDQ=</td>\n",
       "      <td>0</td>\n",
       "      <td>1624722362</td>\n",
       "      <td>ZG54ZBZ5LVWV3MTGOPDSKCBL5LEQTAPUTN5OQQZUMTAYV3JIICA7G3RJZE</td>\n",
       "      <td>997</td>\n",
       "      <td>axfer</td>\n",
       "      <td>585.49</td>\n",
       "      <td>31566704</td>\n",
       "      <td>0</td>\n",
       "      <td>2UEQTE5QDNXPI7M3TU44G6SYKLFWLPQO7EBZM7K7MHMQQMFI4QJPLHQFHM</td>\n",
       "      <td>7ImQqgdtMyllqdCh2kchf23dZ4Up+7Tvu6ZlWM0cODBv2Zfaifro54oHbLh0GSjrlPv7Be8DldE8h4eF7WCBBw==</td>\n",
       "      <td>NaN</td>\n",
       "      <td>NaN</td>\n",
       "      <td>NaN</td>\n",
       "      <td>NaN</td>\n",
       "      <td>NaN</td>\n",
       "      <td>NaN</td>\n",
       "      <td>NaN</td>\n",
       "      <td>NaN</td>\n",
       "      <td>NaN</td>\n",
       "      <td>NaN</td>\n",
       "      <td>NaN</td>\n",
       "      <td>NaN</td>\n",
       "    </tr>\n",
       "    <tr>\n",
       "      <th>2</th>\n",
       "      <td>0</td>\n",
       "      <td>0</td>\n",
       "      <td>14651403</td>\n",
       "      <td>0.001</td>\n",
       "      <td>14651399</td>\n",
       "      <td>wGHE2Pwdvd7S12BL5FaOP20EGYesN73ktiC1qzkkit8=</td>\n",
       "      <td>7NNQN77V2NHXOWBDG573BU23JKBUNCXKC7J5O5EUHHUTIKNVIGCQ</td>\n",
       "      <td>0</td>\n",
       "      <td>14652399</td>\n",
       "      <td>9oWmeC4/Owoi7Xmu90+0cM616h2OIOT38O6hcgAE7vE=</td>\n",
       "      <td>0</td>\n",
       "      <td>1624723258</td>\n",
       "      <td>ZG54ZBZ5LVWV3MTGOPDSKCBL5LEQTAPUTN5OQQZUMTAYV3JIICA7G3RJZE</td>\n",
       "      <td>1994</td>\n",
       "      <td>axfer</td>\n",
       "      <td>112.00</td>\n",
       "      <td>31566704</td>\n",
       "      <td>0</td>\n",
       "      <td>2UEQTE5QDNXPI7M3TU44G6SYKLFWLPQO7EBZM7K7MHMQQMFI4QJPLHQFHM</td>\n",
       "      <td>Pia6tL6RxAmFDAQ0msfmgtFAwrkoDKqi/ImRO9vb0sXXGvKeNco1ieBWbEx451oT56rpXBnwBNePqm8+kKYnCw==</td>\n",
       "      <td>NaN</td>\n",
       "      <td>NaN</td>\n",
       "      <td>NaN</td>\n",
       "      <td>NaN</td>\n",
       "      <td>NaN</td>\n",
       "      <td>NaN</td>\n",
       "      <td>NaN</td>\n",
       "      <td>NaN</td>\n",
       "      <td>NaN</td>\n",
       "      <td>NaN</td>\n",
       "      <td>NaN</td>\n",
       "      <td>NaN</td>\n",
       "    </tr>\n",
       "    <tr>\n",
       "      <th>3</th>\n",
       "      <td>0</td>\n",
       "      <td>0</td>\n",
       "      <td>14651681</td>\n",
       "      <td>0.001</td>\n",
       "      <td>14651678</td>\n",
       "      <td>wGHE2Pwdvd7S12BL5FaOP20EGYesN73ktiC1qzkkit8=</td>\n",
       "      <td>47C3O7ADWDJAMRUARMOG5UNXP2IWDCZFUSMG2H6RKRGJR5Z7TGCA</td>\n",
       "      <td>83</td>\n",
       "      <td>14652678</td>\n",
       "      <td>3cuzbppzzBsfo4RQzMKlCFbdyPWVq65XKkEG2q+lCUw=</td>\n",
       "      <td>0</td>\n",
       "      <td>1624724466</td>\n",
       "      <td>ZG54ZBZ5LVWV3MTGOPDSKCBL5LEQTAPUTN5OQQZUMTAYV3JIICA7G3RJZE</td>\n",
       "      <td>1994</td>\n",
       "      <td>axfer</td>\n",
       "      <td>280500.41</td>\n",
       "      <td>31566704</td>\n",
       "      <td>0</td>\n",
       "      <td>2UEQTE5QDNXPI7M3TU44G6SYKLFWLPQO7EBZM7K7MHMQQMFI4QJPLHQFHM</td>\n",
       "      <td>5FbxOp9jMKgXO3617f1oEr9D0GrFSNAwYVbNaS9pqgXuD1Vwza767n0Ki3cdozR4+T4yi2XtabCrzy/AG4toCw==</td>\n",
       "      <td>NaN</td>\n",
       "      <td>NaN</td>\n",
       "      <td>NaN</td>\n",
       "      <td>NaN</td>\n",
       "      <td>NaN</td>\n",
       "      <td>NaN</td>\n",
       "      <td>NaN</td>\n",
       "      <td>NaN</td>\n",
       "      <td>NaN</td>\n",
       "      <td>NaN</td>\n",
       "      <td>NaN</td>\n",
       "      <td>NaN</td>\n",
       "    </tr>\n",
       "    <tr>\n",
       "      <th>4</th>\n",
       "      <td>0</td>\n",
       "      <td>0</td>\n",
       "      <td>14651820</td>\n",
       "      <td>0.001</td>\n",
       "      <td>14651816</td>\n",
       "      <td>wGHE2Pwdvd7S12BL5FaOP20EGYesN73ktiC1qzkkit8=</td>\n",
       "      <td>N2KVFOAA5ZSXPJN3M2ZYT5TNIUERNYLQMQH6XRYBAEPKOWYFZK7Q</td>\n",
       "      <td>1</td>\n",
       "      <td>14652816</td>\n",
       "      <td>Xug5KWS+7kxlpEmOOsPvEiYybj5rq6OPcoDdTuPKuM4=</td>\n",
       "      <td>0</td>\n",
       "      <td>1624725074</td>\n",
       "      <td>2UEQTE5QDNXPI7M3TU44G6SYKLFWLPQO7EBZM7K7MHMQQMFI4QJPLHQFHM</td>\n",
       "      <td>56870</td>\n",
       "      <td>axfer</td>\n",
       "      <td>103121.65</td>\n",
       "      <td>31566704</td>\n",
       "      <td>0</td>\n",
       "      <td>ZG54ZBZ5LVWV3MTGOPDSKCBL5LEQTAPUTN5OQQZUMTAYV3JIICA7G3RJZE</td>\n",
       "      <td>NaN</td>\n",
       "      <td>[7i1nzZPvkk/3Tpoi9uuslxjUKg/dPpWLzFpwIwy0FL0vZBTINNJWACNaTFFgqx7xNgDwLAUDztDTMdGmD/CxCw==]</td>\n",
       "      <td>ASADwMyNCATw1oYPJgIgybvMhz1dbV2yZnPHJQgr6skJgfSbeuhDNGTBiu0oQIEgdKWxEDtStQNW3B5ww6xpYlGP2UWAn3r9TsiMXxnoWAExBCIMMRAjEhAxESQSEDEUKBIQMRctKQQQ</td>\n",
       "      <td>[{'public-key': 'v8w/YDBK3MmuXQg3njxy1K9cgEZIN2UQWDF3W5vp4MY=', 'signature': 'GE1mVtsR/zOuqo8eMRTcaGLTjFJvCIjcGF40IOxMeaB9+rWPWI+/zB3NNtpmDGkIcCk5IrV3/d7UV1WwJJWnCg=='}, {'public-key': 'otp0n4h9tM8yu8LzH90DCoLInD6MBL/1H/Yuvtm/nYc='}, {'public-key': 'bP/DP9SIymrDqgwZFL733vkGOZAETEnTq5TPT/6wga4=', 'signature': 'umBBx8DIIWNrLD7beelo6Ybn06CGXRTDGZfzT/GLzMEUxD0DA8Uhjc/Z7nGtLmCPhqDe5hW9jRetq/Nah27bAQ=='}]</td>\n",
       "      <td>2.0</td>\n",
       "      <td>1.0</td>\n",
       "      <td>NaN</td>\n",
       "      <td>NaN</td>\n",
       "      <td>NaN</td>\n",
       "      <td>NaN</td>\n",
       "      <td>NaN</td>\n",
       "      <td>NaN</td>\n",
       "      <td>NaN</td>\n",
       "    </tr>\n",
       "  </tbody>\n",
       "</table>\n",
       "</div>"
      ],
      "text/plain": [
       "   close-rewards  closing-amount  confirmed-round    fee  first-valid  \\\n",
       "0              0               0         14651056  0.001     14651052   \n",
       "1              0               0         14651197  0.001     14651194   \n",
       "2              0               0         14651403  0.001     14651399   \n",
       "3              0               0         14651681  0.001     14651678   \n",
       "4              0               0         14651820  0.001     14651816   \n",
       "\n",
       "                                   genesis-hash  \\\n",
       "0  wGHE2Pwdvd7S12BL5FaOP20EGYesN73ktiC1qzkkit8=   \n",
       "1  wGHE2Pwdvd7S12BL5FaOP20EGYesN73ktiC1qzkkit8=   \n",
       "2  wGHE2Pwdvd7S12BL5FaOP20EGYesN73ktiC1qzkkit8=   \n",
       "3  wGHE2Pwdvd7S12BL5FaOP20EGYesN73ktiC1qzkkit8=   \n",
       "4  wGHE2Pwdvd7S12BL5FaOP20EGYesN73ktiC1qzkkit8=   \n",
       "\n",
       "                                                     id  intra-round-offset  \\\n",
       "0  77V5EVCRQ4AYXZTB6EXNVHYCY3F7ZD5MZ4AV6S3MCD5E5F3ICMPQ                  27   \n",
       "1  IRBAPPLBLYPFFMJXLJ7Y4LTUNKZUBROKQYTPSVEFDHDMT6ZA4DTQ                  47   \n",
       "2  7NNQN77V2NHXOWBDG573BU23JKBUNCXKC7J5O5EUHHUTIKNVIGCQ                   0   \n",
       "3  47C3O7ADWDJAMRUARMOG5UNXP2IWDCZFUSMG2H6RKRGJR5Z7TGCA                  83   \n",
       "4  N2KVFOAA5ZSXPJN3M2ZYT5TNIUERNYLQMQH6XRYBAEPKOWYFZK7Q                   1   \n",
       "\n",
       "   last-valid                                         lease  receiver-rewards  \\\n",
       "0    14652052  6D8z9AsoLigs2gwedoUijR3ftp5J7TS3/K9Oh69K3Ds=                 0   \n",
       "1    14652194  ObB+0T90MuHTDASCHI2R7Y3iaGLIxYhvl/yJWIkBuDQ=                 0   \n",
       "2    14652399  9oWmeC4/Owoi7Xmu90+0cM616h2OIOT38O6hcgAE7vE=                 0   \n",
       "3    14652678  3cuzbppzzBsfo4RQzMKlCFbdyPWVq65XKkEG2q+lCUw=                 0   \n",
       "4    14652816  Xug5KWS+7kxlpEmOOsPvEiYybj5rq6OPcoDdTuPKuM4=                 0   \n",
       "\n",
       "   round-time                                                      sender  \\\n",
       "0  1624721750  ZG54ZBZ5LVWV3MTGOPDSKCBL5LEQTAPUTN5OQQZUMTAYV3JIICA7G3RJZE   \n",
       "1  1624722362  ZG54ZBZ5LVWV3MTGOPDSKCBL5LEQTAPUTN5OQQZUMTAYV3JIICA7G3RJZE   \n",
       "2  1624723258  ZG54ZBZ5LVWV3MTGOPDSKCBL5LEQTAPUTN5OQQZUMTAYV3JIICA7G3RJZE   \n",
       "3  1624724466  ZG54ZBZ5LVWV3MTGOPDSKCBL5LEQTAPUTN5OQQZUMTAYV3JIICA7G3RJZE   \n",
       "4  1624725074  2UEQTE5QDNXPI7M3TU44G6SYKLFWLPQO7EBZM7K7MHMQQMFI4QJPLHQFHM   \n",
       "\n",
       "   sender-rewards tx-type  asset-transfer-transaction.amount  \\\n",
       "0             997   axfer                            9208.99   \n",
       "1             997   axfer                             585.49   \n",
       "2            1994   axfer                             112.00   \n",
       "3            1994   axfer                          280500.41   \n",
       "4           56870   axfer                          103121.65   \n",
       "\n",
       "   asset-transfer-transaction.asset-id  \\\n",
       "0                             31566704   \n",
       "1                             31566704   \n",
       "2                             31566704   \n",
       "3                             31566704   \n",
       "4                             31566704   \n",
       "\n",
       "   asset-transfer-transaction.close-amount  \\\n",
       "0                                        0   \n",
       "1                                        0   \n",
       "2                                        0   \n",
       "3                                        0   \n",
       "4                                        0   \n",
       "\n",
       "                          asset-transfer-transaction.receiver  \\\n",
       "0  2UEQTE5QDNXPI7M3TU44G6SYKLFWLPQO7EBZM7K7MHMQQMFI4QJPLHQFHM   \n",
       "1  2UEQTE5QDNXPI7M3TU44G6SYKLFWLPQO7EBZM7K7MHMQQMFI4QJPLHQFHM   \n",
       "2  2UEQTE5QDNXPI7M3TU44G6SYKLFWLPQO7EBZM7K7MHMQQMFI4QJPLHQFHM   \n",
       "3  2UEQTE5QDNXPI7M3TU44G6SYKLFWLPQO7EBZM7K7MHMQQMFI4QJPLHQFHM   \n",
       "4  ZG54ZBZ5LVWV3MTGOPDSKCBL5LEQTAPUTN5OQQZUMTAYV3JIICA7G3RJZE   \n",
       "\n",
       "                                                                              signature.sig  \\\n",
       "0  XC79J+JKOQkCKnOPOHG0eYGUbOMNvVkMy2j7pceiklI5fVMY1W/jWLBFIsFicY/wc2BsCdEJE4ZAej2QkewdBA==   \n",
       "1  7ImQqgdtMyllqdCh2kchf23dZ4Up+7Tvu6ZlWM0cODBv2Zfaifro54oHbLh0GSjrlPv7Be8DldE8h4eF7WCBBw==   \n",
       "2  Pia6tL6RxAmFDAQ0msfmgtFAwrkoDKqi/ImRO9vb0sXXGvKeNco1ieBWbEx451oT56rpXBnwBNePqm8+kKYnCw==   \n",
       "3  5FbxOp9jMKgXO3617f1oEr9D0GrFSNAwYVbNaS9pqgXuD1Vwza767n0Ki3cdozR4+T4yi2XtabCrzy/AG4toCw==   \n",
       "4                                                                                       NaN   \n",
       "\n",
       "                                                                      signature.logicsig.args  \\\n",
       "0                                                                                         NaN   \n",
       "1                                                                                         NaN   \n",
       "2                                                                                         NaN   \n",
       "3                                                                                         NaN   \n",
       "4  [7i1nzZPvkk/3Tpoi9uuslxjUKg/dPpWLzFpwIwy0FL0vZBTINNJWACNaTFFgqx7xNgDwLAUDztDTMdGmD/CxCw==]   \n",
       "\n",
       "                                                                                                                       signature.logicsig.logic  \\\n",
       "0                                                                                                                                           NaN   \n",
       "1                                                                                                                                           NaN   \n",
       "2                                                                                                                                           NaN   \n",
       "3                                                                                                                                           NaN   \n",
       "4  ASADwMyNCATw1oYPJgIgybvMhz1dbV2yZnPHJQgr6skJgfSbeuhDNGTBiu0oQIEgdKWxEDtStQNW3B5ww6xpYlGP2UWAn3r9TsiMXxnoWAExBCIMMRAjEhAxESQSEDEUKBIQMRctKQQQ   \n",
       "\n",
       "                                                                                                                                                                                                                                                                                                                                                                   signature.logicsig.multisig-signature.subsignature  \\\n",
       "0                                                                                                                                                                                                                                                                                                                                                                                                                 NaN   \n",
       "1                                                                                                                                                                                                                                                                                                                                                                                                                 NaN   \n",
       "2                                                                                                                                                                                                                                                                                                                                                                                                                 NaN   \n",
       "3                                                                                                                                                                                                                                                                                                                                                                                                                 NaN   \n",
       "4  [{'public-key': 'v8w/YDBK3MmuXQg3njxy1K9cgEZIN2UQWDF3W5vp4MY=', 'signature': 'GE1mVtsR/zOuqo8eMRTcaGLTjFJvCIjcGF40IOxMeaB9+rWPWI+/zB3NNtpmDGkIcCk5IrV3/d7UV1WwJJWnCg=='}, {'public-key': 'otp0n4h9tM8yu8LzH90DCoLInD6MBL/1H/Yuvtm/nYc='}, {'public-key': 'bP/DP9SIymrDqgwZFL733vkGOZAETEnTq5TPT/6wga4=', 'signature': 'umBBx8DIIWNrLD7beelo6Ybn06CGXRTDGZfzT/GLzMEUxD0DA8Uhjc/Z7nGtLmCPhqDe5hW9jRetq/Nah27bAQ=='}]   \n",
       "\n",
       "   signature.logicsig.multisig-signature.threshold  \\\n",
       "0                                              NaN   \n",
       "1                                              NaN   \n",
       "2                                              NaN   \n",
       "3                                              NaN   \n",
       "4                                              2.0   \n",
       "\n",
       "   signature.logicsig.multisig-signature.version genesis-id group note  \\\n",
       "0                                            NaN        NaN   NaN  NaN   \n",
       "1                                            NaN        NaN   NaN  NaN   \n",
       "2                                            NaN        NaN   NaN  NaN   \n",
       "3                                            NaN        NaN   NaN  NaN   \n",
       "4                                            1.0        NaN   NaN  NaN   \n",
       "\n",
       "  signature.multisig.subsignature  signature.multisig.threshold  \\\n",
       "0                             NaN                           NaN   \n",
       "1                             NaN                           NaN   \n",
       "2                             NaN                           NaN   \n",
       "3                             NaN                           NaN   \n",
       "4                             NaN                           NaN   \n",
       "\n",
       "   signature.multisig.version asset-transfer-transaction.close-to  \n",
       "0                         NaN                                 NaN  \n",
       "1                         NaN                                 NaN  \n",
       "2                         NaN                                 NaN  \n",
       "3                         NaN                                 NaN  \n",
       "4                         NaN                                 NaN  "
      ]
     },
     "execution_count": 169,
     "metadata": {},
     "output_type": "execute_result"
    }
   ],
   "source": [
    "df.head(5)"
   ]
  },
  {
   "cell_type": "code",
   "execution_count": 170,
   "metadata": {},
   "outputs": [
    {
     "data": {
      "text/plain": [
       "Index(['close-rewards', 'closing-amount', 'confirmed-round', 'fee',\n",
       "       'first-valid', 'genesis-hash', 'id', 'intra-round-offset', 'last-valid',\n",
       "       'lease', 'receiver-rewards', 'round-time', 'sender', 'sender-rewards',\n",
       "       'tx-type', 'asset-transfer-transaction.amount',\n",
       "       'asset-transfer-transaction.asset-id',\n",
       "       'asset-transfer-transaction.close-amount',\n",
       "       'asset-transfer-transaction.receiver', 'signature.sig',\n",
       "       'signature.logicsig.args', 'signature.logicsig.logic',\n",
       "       'signature.logicsig.multisig-signature.subsignature',\n",
       "       'signature.logicsig.multisig-signature.threshold',\n",
       "       'signature.logicsig.multisig-signature.version', 'genesis-id', 'group',\n",
       "       'note', 'signature.multisig.subsignature',\n",
       "       'signature.multisig.threshold', 'signature.multisig.version',\n",
       "       'asset-transfer-transaction.close-to'],\n",
       "      dtype='object')"
      ]
     },
     "execution_count": 170,
     "metadata": {},
     "output_type": "execute_result"
    }
   ],
   "source": [
    "df.columns"
   ]
  },
  {
   "cell_type": "code",
   "execution_count": 171,
   "metadata": {},
   "outputs": [],
   "source": [
    "df['round-time'] = pd.to_datetime(df['round-time'], unit='s')"
   ]
  },
  {
   "cell_type": "code",
   "execution_count": 172,
   "metadata": {},
   "outputs": [
    {
     "data": {
      "text/html": [
       "<div>\n",
       "<style scoped>\n",
       "    .dataframe tbody tr th:only-of-type {\n",
       "        vertical-align: middle;\n",
       "    }\n",
       "\n",
       "    .dataframe tbody tr th {\n",
       "        vertical-align: top;\n",
       "    }\n",
       "\n",
       "    .dataframe thead th {\n",
       "        text-align: right;\n",
       "    }\n",
       "</style>\n",
       "<table border=\"1\" class=\"dataframe\">\n",
       "  <thead>\n",
       "    <tr style=\"text-align: right;\">\n",
       "      <th></th>\n",
       "      <th>volume</th>\n",
       "      <th>mean</th>\n",
       "    </tr>\n",
       "    <tr>\n",
       "      <th>round-time</th>\n",
       "      <th></th>\n",
       "      <th></th>\n",
       "    </tr>\n",
       "  </thead>\n",
       "  <tbody>\n",
       "    <tr>\n",
       "      <th>2021-01-22</th>\n",
       "      <td>1.927405e+07</td>\n",
       "      <td>275343.513714</td>\n",
       "    </tr>\n",
       "    <tr>\n",
       "      <th>2021-01-23</th>\n",
       "      <td>2.036411e+07</td>\n",
       "      <td>452535.767778</td>\n",
       "    </tr>\n",
       "    <tr>\n",
       "      <th>2021-01-24</th>\n",
       "      <td>1.661494e+06</td>\n",
       "      <td>75522.470000</td>\n",
       "    </tr>\n",
       "    <tr>\n",
       "      <th>2021-01-25</th>\n",
       "      <td>1.348840e+07</td>\n",
       "      <td>85369.613481</td>\n",
       "    </tr>\n",
       "    <tr>\n",
       "      <th>2021-01-26</th>\n",
       "      <td>9.178005e+06</td>\n",
       "      <td>31217.703163</td>\n",
       "    </tr>\n",
       "    <tr>\n",
       "      <th>...</th>\n",
       "      <td>...</td>\n",
       "      <td>...</td>\n",
       "    </tr>\n",
       "    <tr>\n",
       "      <th>2021-10-05</th>\n",
       "      <td>6.982135e+07</td>\n",
       "      <td>347369.885456</td>\n",
       "    </tr>\n",
       "    <tr>\n",
       "      <th>2021-10-06</th>\n",
       "      <td>2.839528e+07</td>\n",
       "      <td>155165.482715</td>\n",
       "    </tr>\n",
       "    <tr>\n",
       "      <th>2021-10-07</th>\n",
       "      <td>3.889015e+07</td>\n",
       "      <td>18733.212731</td>\n",
       "    </tr>\n",
       "    <tr>\n",
       "      <th>2021-10-08</th>\n",
       "      <td>1.305653e+07</td>\n",
       "      <td>1742.263901</td>\n",
       "    </tr>\n",
       "    <tr>\n",
       "      <th>2021-10-09</th>\n",
       "      <td>9.274043e+05</td>\n",
       "      <td>329.919706</td>\n",
       "    </tr>\n",
       "  </tbody>\n",
       "</table>\n",
       "<p>261 rows × 2 columns</p>\n",
       "</div>"
      ],
      "text/plain": [
       "                  volume           mean\n",
       "round-time                             \n",
       "2021-01-22  1.927405e+07  275343.513714\n",
       "2021-01-23  2.036411e+07  452535.767778\n",
       "2021-01-24  1.661494e+06   75522.470000\n",
       "2021-01-25  1.348840e+07   85369.613481\n",
       "2021-01-26  9.178005e+06   31217.703163\n",
       "...                  ...            ...\n",
       "2021-10-05  6.982135e+07  347369.885456\n",
       "2021-10-06  2.839528e+07  155165.482715\n",
       "2021-10-07  3.889015e+07   18733.212731\n",
       "2021-10-08  1.305653e+07    1742.263901\n",
       "2021-10-09  9.274043e+05     329.919706\n",
       "\n",
       "[261 rows x 2 columns]"
      ]
     },
     "execution_count": 172,
     "metadata": {},
     "output_type": "execute_result"
    }
   ],
   "source": [
    "ag_df = df.groupby(by=[df['round-time'].dt.date])['asset-transfer-transaction.amount'].agg(volume='sum', mean='mean')\n",
    "ag_df"
   ]
  },
  {
   "cell_type": "code",
   "execution_count": 175,
   "metadata": {},
   "outputs": [
    {
     "data": {
      "application/vnd.plotly.v1+json": {
       "config": {
        "plotlyServerURL": "https://plot.ly"
       },
       "data": [
        {
         "hovertemplate": "round-time=%{x}<br>volume=%{y}<extra></extra>",
         "legendgroup": "",
         "line": {
          "color": "#636efa",
          "dash": "solid"
         },
         "marker": {
          "symbol": "circle"
         },
         "mode": "lines",
         "name": "",
         "orientation": "v",
         "showlegend": false,
         "type": "scatter",
         "x": [
          "2021-01-22",
          "2021-01-23",
          "2021-01-24",
          "2021-01-25",
          "2021-01-26",
          "2021-01-27",
          "2021-01-28",
          "2021-01-29",
          "2021-01-30",
          "2021-01-31",
          "2021-02-01",
          "2021-02-02",
          "2021-02-03",
          "2021-02-04",
          "2021-02-05",
          "2021-02-06",
          "2021-02-07",
          "2021-02-08",
          "2021-02-09",
          "2021-02-10",
          "2021-02-11",
          "2021-02-12",
          "2021-02-13",
          "2021-02-14",
          "2021-02-15",
          "2021-02-16",
          "2021-02-17",
          "2021-02-18",
          "2021-02-19",
          "2021-02-20",
          "2021-02-21",
          "2021-02-22",
          "2021-02-23",
          "2021-02-24",
          "2021-02-25",
          "2021-02-26",
          "2021-02-27",
          "2021-02-28",
          "2021-03-01",
          "2021-03-02",
          "2021-03-03",
          "2021-03-04",
          "2021-03-05",
          "2021-03-06",
          "2021-03-07",
          "2021-03-08",
          "2021-03-09",
          "2021-03-10",
          "2021-03-11",
          "2021-03-12",
          "2021-03-13",
          "2021-03-14",
          "2021-03-15",
          "2021-03-16",
          "2021-03-17",
          "2021-03-18",
          "2021-03-19",
          "2021-03-20",
          "2021-03-21",
          "2021-03-22",
          "2021-03-23",
          "2021-03-24",
          "2021-03-25",
          "2021-03-26",
          "2021-03-27",
          "2021-03-28",
          "2021-03-29",
          "2021-03-30",
          "2021-03-31",
          "2021-04-01",
          "2021-04-02",
          "2021-04-03",
          "2021-04-04",
          "2021-04-05",
          "2021-04-06",
          "2021-04-07",
          "2021-04-08",
          "2021-04-09",
          "2021-04-10",
          "2021-04-11",
          "2021-04-12",
          "2021-04-13",
          "2021-04-14",
          "2021-04-15",
          "2021-04-16",
          "2021-04-17",
          "2021-04-18",
          "2021-04-19",
          "2021-04-20",
          "2021-04-21",
          "2021-04-22",
          "2021-04-23",
          "2021-04-24",
          "2021-04-25",
          "2021-04-26",
          "2021-04-27",
          "2021-04-28",
          "2021-04-29",
          "2021-04-30",
          "2021-05-01",
          "2021-05-02",
          "2021-05-03",
          "2021-05-04",
          "2021-05-05",
          "2021-05-06",
          "2021-05-07",
          "2021-05-08",
          "2021-05-09",
          "2021-05-10",
          "2021-05-11",
          "2021-05-12",
          "2021-05-13",
          "2021-05-14",
          "2021-05-15",
          "2021-05-16",
          "2021-05-17",
          "2021-05-18",
          "2021-05-19",
          "2021-05-20",
          "2021-05-21",
          "2021-05-22",
          "2021-05-23",
          "2021-05-24",
          "2021-05-25",
          "2021-05-26",
          "2021-05-27",
          "2021-05-28",
          "2021-05-29",
          "2021-05-30",
          "2021-05-31",
          "2021-06-01",
          "2021-06-02",
          "2021-06-03",
          "2021-06-04",
          "2021-06-05",
          "2021-06-06",
          "2021-06-07",
          "2021-06-08",
          "2021-06-09",
          "2021-06-10",
          "2021-06-11",
          "2021-06-12",
          "2021-06-13",
          "2021-06-14",
          "2021-06-15",
          "2021-06-16",
          "2021-06-17",
          "2021-06-18",
          "2021-06-19",
          "2021-06-20",
          "2021-06-21",
          "2021-06-22",
          "2021-06-23",
          "2021-06-24",
          "2021-06-25",
          "2021-06-26",
          "2021-06-27",
          "2021-06-28",
          "2021-06-29",
          "2021-06-30",
          "2021-07-01",
          "2021-07-02",
          "2021-07-03",
          "2021-07-04",
          "2021-07-05",
          "2021-07-06",
          "2021-07-07",
          "2021-07-08",
          "2021-07-09",
          "2021-07-10",
          "2021-07-11",
          "2021-07-12",
          "2021-07-13",
          "2021-07-14",
          "2021-07-15",
          "2021-07-16",
          "2021-07-17",
          "2021-07-18",
          "2021-07-19",
          "2021-07-20",
          "2021-07-21",
          "2021-07-22",
          "2021-07-23",
          "2021-07-24",
          "2021-07-25",
          "2021-07-26",
          "2021-07-27",
          "2021-07-28",
          "2021-07-29",
          "2021-07-30",
          "2021-07-31",
          "2021-08-01",
          "2021-08-02",
          "2021-08-03",
          "2021-08-04",
          "2021-08-05",
          "2021-08-06",
          "2021-08-07",
          "2021-08-08",
          "2021-08-09",
          "2021-08-10",
          "2021-08-11",
          "2021-08-12",
          "2021-08-13",
          "2021-08-14",
          "2021-08-15",
          "2021-08-16",
          "2021-08-17",
          "2021-08-18",
          "2021-08-19",
          "2021-08-20",
          "2021-08-21",
          "2021-08-22",
          "2021-08-23",
          "2021-08-24",
          "2021-08-25",
          "2021-08-26",
          "2021-08-27",
          "2021-08-28",
          "2021-08-29",
          "2021-08-30",
          "2021-08-31",
          "2021-09-01",
          "2021-09-02",
          "2021-09-03",
          "2021-09-04",
          "2021-09-05",
          "2021-09-06",
          "2021-09-07",
          "2021-09-08",
          "2021-09-09",
          "2021-09-10",
          "2021-09-11",
          "2021-09-12",
          "2021-09-13",
          "2021-09-14",
          "2021-09-15",
          "2021-09-16",
          "2021-09-17",
          "2021-09-18",
          "2021-09-19",
          "2021-09-20",
          "2021-09-21",
          "2021-09-22",
          "2021-09-23",
          "2021-09-24",
          "2021-09-25",
          "2021-09-26",
          "2021-09-27",
          "2021-09-28",
          "2021-09-29",
          "2021-09-30",
          "2021-10-01",
          "2021-10-02",
          "2021-10-03",
          "2021-10-04",
          "2021-10-05",
          "2021-10-06",
          "2021-10-07",
          "2021-10-08",
          "2021-10-09"
         ],
         "xaxis": "x",
         "y": [
          19274045.959999997,
          20364109.55,
          1661494.34,
          13488398.93,
          9178004.73,
          9007836.7,
          20047076,
          45832745.85,
          1049019.53,
          4222355.081,
          14616105.45,
          14170059.13,
          18249433.74,
          47173032.699999996,
          31630474.316,
          16141319.3621,
          20859365.85,
          13456033.06,
          10063333.14,
          50639476.673443,
          44197976.115171,
          49268699.389122,
          15742531.224055,
          4079601.155604,
          23154402.549204,
          15003303.099012,
          35458372.131421,
          43303667.785388,
          41713008.289942004,
          20370949.662452,
          16900522.409846,
          54226984.812929,
          16514074.146476,
          18700819.386925,
          21389288.32,
          28403669.059381,
          6437765.578462,
          11984401.741088001,
          20395669.6115,
          8934521.069412,
          18955166.27,
          19399930.691978,
          18563866.355826,
          8311534.774996,
          4961886.614856,
          23239435.967151,
          58046818.070924,
          29873718.213491,
          16077675.657072,
          17623938.284454,
          96980050.715332,
          1995862.307706,
          24227595.396856,
          30220089.92006,
          25166635.810888,
          24750856.70128,
          33867355.686616,
          20110286.701824002,
          8166067.410571999,
          15618548.828,
          22382295.628000002,
          19725515.347,
          23239345.306962002,
          12815151.591272,
          8462723.793772,
          4239647.66849,
          26179729.833164,
          21078578.781,
          29918356.71,
          28988298.204582002,
          6942731.509173,
          21210157.7428,
          3472061.8200000003,
          45409514.7734,
          20306277.17,
          54434083.054,
          27602265.889027,
          44184050.187058,
          10209535.788,
          16139173.91,
          27470571.862274,
          39959968.55,
          47112141.26444,
          61528365.748766,
          62208014.631216995,
          12332373.350498,
          32409266.991090998,
          47434483.07549,
          75163671.561471,
          32545314.392717,
          46501221.984767,
          61966116.595979,
          14617171.787258,
          13503485.574632,
          26917300.172079,
          35647724.922841996,
          33394617.052,
          35223295.881572,
          38871404.405002,
          43965976.034258,
          25890820.198592,
          76719111.673055,
          53477394.169092,
          34652184.667945996,
          44245152.173098,
          38679798.684044,
          77525026.065164,
          19443019.474904,
          39972490.205122,
          60644432.68458,
          45478920.373389,
          43695375.888026,
          53417722.953255,
          33683464.085347,
          15728060.236964,
          64842012.983890004,
          34753325.639435,
          44386580.469004,
          59959966.671957,
          92681671.376674,
          34546041.433507,
          38827473.272103,
          97246309.068744,
          37641786.258747,
          41701883.124315,
          31187897.037762,
          36006871.957795,
          18100244.945013,
          21568727.642896,
          11012503.493244,
          32910057.17766,
          51278058.359342,
          44254553.265187,
          54127650.087881,
          164690133.663733,
          11173807.213705,
          69499704.154525,
          39756127.124514,
          28483353.074517,
          17036538.635709,
          21945259.181319002,
          6167367.43315,
          7598865.81013,
          42236783.059,
          67332946.391244,
          25296735.35103,
          20829786.439333,
          57970996.565365,
          43428427.611465,
          5371865.52398,
          70059420.747801,
          93178896.480987,
          60729283.361292,
          20486084.524831,
          75557252.082423,
          11227797.167574,
          6997854.847867,
          20463650.913437,
          10457559.089924,
          48933896.371074,
          13154622.719999,
          16999739.615155,
          136202.823182,
          6506579.831352,
          4926366.129923,
          10436693.130858,
          7937419.496433,
          9777622.065121999,
          5588980.044688,
          931417.636713,
          415508.843744,
          6800904.332498,
          10113634.301256001,
          42911323.195489004,
          44551333.863208,
          12112040.914107,
          621804.309706,
          374230.000852,
          52634896.362742,
          4902990.914399,
          16308009.61219,
          2801509.618469,
          12412940.3492,
          601779.536664,
          38949.2227,
          16020012.246189,
          60200879.112056,
          23639578.999649,
          76830503.433214,
          20161801.832747,
          1473713.710674,
          3826817.853898,
          6378479.376037,
          26005828.040602,
          16849577.477386,
          22101066.796218,
          16963742.98878,
          2907160.670042,
          4833177.234589,
          6943578.967158,
          23712833.983846,
          16107041.39343,
          11546498.075174,
          18728144.546210002,
          1274475.1613190002,
          576606.763473,
          20990322.084948,
          72708435.137856,
          4769652.784996,
          11644047.44561,
          24564118.330915,
          41214478.553209,
          2558540.9092139998,
          63268186.258166,
          8542198.748869,
          23427206.349493,
          24620098.998246,
          21977081.474294998,
          2205710.669896,
          3674403.800286,
          20366013.799901,
          27786630.256464,
          19845376.980407,
          19932643.013978,
          23791329.750943,
          494980.374552,
          926118.700271,
          11702608.077844,
          27280628.198898,
          21135941.058215,
          51107745.119813,
          38069069.113738,
          1540022.932492,
          2335028.549658,
          23065951.419401,
          99616816.16808599,
          75444015.290156,
          41053497.134493,
          25516231.222734,
          1270382.917904,
          2149599.378586,
          12589767.652648,
          262744826.00473002,
          31559239.145879,
          103390755.622842,
          69910430.509284,
          731031.795496,
          1221032.08183,
          14388646.53991,
          73140230.989572,
          25629218.409143,
          16316636.265832,
          12884862.147935,
          2752447.9275559997,
          2219657.478688,
          14339452.831157,
          69821346.976647,
          28395283.3369,
          38890149.629834004,
          13056525.673034,
          927404.292431
         ],
         "yaxis": "y"
        }
       ],
       "layout": {
        "legend": {
         "tracegroupgap": 0
        },
        "margin": {
         "t": 60
        },
        "template": {
         "data": {
          "bar": [
           {
            "error_x": {
             "color": "#f2f5fa"
            },
            "error_y": {
             "color": "#f2f5fa"
            },
            "marker": {
             "line": {
              "color": "rgb(17,17,17)",
              "width": 0.5
             },
             "pattern": {
              "fillmode": "overlay",
              "size": 10,
              "solidity": 0.2
             }
            },
            "type": "bar"
           }
          ],
          "barpolar": [
           {
            "marker": {
             "line": {
              "color": "rgb(17,17,17)",
              "width": 0.5
             },
             "pattern": {
              "fillmode": "overlay",
              "size": 10,
              "solidity": 0.2
             }
            },
            "type": "barpolar"
           }
          ],
          "carpet": [
           {
            "aaxis": {
             "endlinecolor": "#A2B1C6",
             "gridcolor": "#506784",
             "linecolor": "#506784",
             "minorgridcolor": "#506784",
             "startlinecolor": "#A2B1C6"
            },
            "baxis": {
             "endlinecolor": "#A2B1C6",
             "gridcolor": "#506784",
             "linecolor": "#506784",
             "minorgridcolor": "#506784",
             "startlinecolor": "#A2B1C6"
            },
            "type": "carpet"
           }
          ],
          "choropleth": [
           {
            "colorbar": {
             "outlinewidth": 0,
             "ticks": ""
            },
            "type": "choropleth"
           }
          ],
          "contour": [
           {
            "colorbar": {
             "outlinewidth": 0,
             "ticks": ""
            },
            "colorscale": [
             [
              0,
              "#0d0887"
             ],
             [
              0.1111111111111111,
              "#46039f"
             ],
             [
              0.2222222222222222,
              "#7201a8"
             ],
             [
              0.3333333333333333,
              "#9c179e"
             ],
             [
              0.4444444444444444,
              "#bd3786"
             ],
             [
              0.5555555555555556,
              "#d8576b"
             ],
             [
              0.6666666666666666,
              "#ed7953"
             ],
             [
              0.7777777777777778,
              "#fb9f3a"
             ],
             [
              0.8888888888888888,
              "#fdca26"
             ],
             [
              1,
              "#f0f921"
             ]
            ],
            "type": "contour"
           }
          ],
          "contourcarpet": [
           {
            "colorbar": {
             "outlinewidth": 0,
             "ticks": ""
            },
            "type": "contourcarpet"
           }
          ],
          "heatmap": [
           {
            "colorbar": {
             "outlinewidth": 0,
             "ticks": ""
            },
            "colorscale": [
             [
              0,
              "#0d0887"
             ],
             [
              0.1111111111111111,
              "#46039f"
             ],
             [
              0.2222222222222222,
              "#7201a8"
             ],
             [
              0.3333333333333333,
              "#9c179e"
             ],
             [
              0.4444444444444444,
              "#bd3786"
             ],
             [
              0.5555555555555556,
              "#d8576b"
             ],
             [
              0.6666666666666666,
              "#ed7953"
             ],
             [
              0.7777777777777778,
              "#fb9f3a"
             ],
             [
              0.8888888888888888,
              "#fdca26"
             ],
             [
              1,
              "#f0f921"
             ]
            ],
            "type": "heatmap"
           }
          ],
          "heatmapgl": [
           {
            "colorbar": {
             "outlinewidth": 0,
             "ticks": ""
            },
            "colorscale": [
             [
              0,
              "#0d0887"
             ],
             [
              0.1111111111111111,
              "#46039f"
             ],
             [
              0.2222222222222222,
              "#7201a8"
             ],
             [
              0.3333333333333333,
              "#9c179e"
             ],
             [
              0.4444444444444444,
              "#bd3786"
             ],
             [
              0.5555555555555556,
              "#d8576b"
             ],
             [
              0.6666666666666666,
              "#ed7953"
             ],
             [
              0.7777777777777778,
              "#fb9f3a"
             ],
             [
              0.8888888888888888,
              "#fdca26"
             ],
             [
              1,
              "#f0f921"
             ]
            ],
            "type": "heatmapgl"
           }
          ],
          "histogram": [
           {
            "marker": {
             "pattern": {
              "fillmode": "overlay",
              "size": 10,
              "solidity": 0.2
             }
            },
            "type": "histogram"
           }
          ],
          "histogram2d": [
           {
            "colorbar": {
             "outlinewidth": 0,
             "ticks": ""
            },
            "colorscale": [
             [
              0,
              "#0d0887"
             ],
             [
              0.1111111111111111,
              "#46039f"
             ],
             [
              0.2222222222222222,
              "#7201a8"
             ],
             [
              0.3333333333333333,
              "#9c179e"
             ],
             [
              0.4444444444444444,
              "#bd3786"
             ],
             [
              0.5555555555555556,
              "#d8576b"
             ],
             [
              0.6666666666666666,
              "#ed7953"
             ],
             [
              0.7777777777777778,
              "#fb9f3a"
             ],
             [
              0.8888888888888888,
              "#fdca26"
             ],
             [
              1,
              "#f0f921"
             ]
            ],
            "type": "histogram2d"
           }
          ],
          "histogram2dcontour": [
           {
            "colorbar": {
             "outlinewidth": 0,
             "ticks": ""
            },
            "colorscale": [
             [
              0,
              "#0d0887"
             ],
             [
              0.1111111111111111,
              "#46039f"
             ],
             [
              0.2222222222222222,
              "#7201a8"
             ],
             [
              0.3333333333333333,
              "#9c179e"
             ],
             [
              0.4444444444444444,
              "#bd3786"
             ],
             [
              0.5555555555555556,
              "#d8576b"
             ],
             [
              0.6666666666666666,
              "#ed7953"
             ],
             [
              0.7777777777777778,
              "#fb9f3a"
             ],
             [
              0.8888888888888888,
              "#fdca26"
             ],
             [
              1,
              "#f0f921"
             ]
            ],
            "type": "histogram2dcontour"
           }
          ],
          "mesh3d": [
           {
            "colorbar": {
             "outlinewidth": 0,
             "ticks": ""
            },
            "type": "mesh3d"
           }
          ],
          "parcoords": [
           {
            "line": {
             "colorbar": {
              "outlinewidth": 0,
              "ticks": ""
             }
            },
            "type": "parcoords"
           }
          ],
          "pie": [
           {
            "automargin": true,
            "type": "pie"
           }
          ],
          "scatter": [
           {
            "marker": {
             "line": {
              "color": "#283442"
             }
            },
            "type": "scatter"
           }
          ],
          "scatter3d": [
           {
            "line": {
             "colorbar": {
              "outlinewidth": 0,
              "ticks": ""
             }
            },
            "marker": {
             "colorbar": {
              "outlinewidth": 0,
              "ticks": ""
             }
            },
            "type": "scatter3d"
           }
          ],
          "scattercarpet": [
           {
            "marker": {
             "colorbar": {
              "outlinewidth": 0,
              "ticks": ""
             }
            },
            "type": "scattercarpet"
           }
          ],
          "scattergeo": [
           {
            "marker": {
             "colorbar": {
              "outlinewidth": 0,
              "ticks": ""
             }
            },
            "type": "scattergeo"
           }
          ],
          "scattergl": [
           {
            "marker": {
             "line": {
              "color": "#283442"
             }
            },
            "type": "scattergl"
           }
          ],
          "scattermapbox": [
           {
            "marker": {
             "colorbar": {
              "outlinewidth": 0,
              "ticks": ""
             }
            },
            "type": "scattermapbox"
           }
          ],
          "scatterpolar": [
           {
            "marker": {
             "colorbar": {
              "outlinewidth": 0,
              "ticks": ""
             }
            },
            "type": "scatterpolar"
           }
          ],
          "scatterpolargl": [
           {
            "marker": {
             "colorbar": {
              "outlinewidth": 0,
              "ticks": ""
             }
            },
            "type": "scatterpolargl"
           }
          ],
          "scatterternary": [
           {
            "marker": {
             "colorbar": {
              "outlinewidth": 0,
              "ticks": ""
             }
            },
            "type": "scatterternary"
           }
          ],
          "surface": [
           {
            "colorbar": {
             "outlinewidth": 0,
             "ticks": ""
            },
            "colorscale": [
             [
              0,
              "#0d0887"
             ],
             [
              0.1111111111111111,
              "#46039f"
             ],
             [
              0.2222222222222222,
              "#7201a8"
             ],
             [
              0.3333333333333333,
              "#9c179e"
             ],
             [
              0.4444444444444444,
              "#bd3786"
             ],
             [
              0.5555555555555556,
              "#d8576b"
             ],
             [
              0.6666666666666666,
              "#ed7953"
             ],
             [
              0.7777777777777778,
              "#fb9f3a"
             ],
             [
              0.8888888888888888,
              "#fdca26"
             ],
             [
              1,
              "#f0f921"
             ]
            ],
            "type": "surface"
           }
          ],
          "table": [
           {
            "cells": {
             "fill": {
              "color": "#506784"
             },
             "line": {
              "color": "rgb(17,17,17)"
             }
            },
            "header": {
             "fill": {
              "color": "#2a3f5f"
             },
             "line": {
              "color": "rgb(17,17,17)"
             }
            },
            "type": "table"
           }
          ]
         },
         "layout": {
          "annotationdefaults": {
           "arrowcolor": "#f2f5fa",
           "arrowhead": 0,
           "arrowwidth": 1
          },
          "autotypenumbers": "strict",
          "coloraxis": {
           "colorbar": {
            "outlinewidth": 0,
            "ticks": ""
           }
          },
          "colorscale": {
           "diverging": [
            [
             0,
             "#8e0152"
            ],
            [
             0.1,
             "#c51b7d"
            ],
            [
             0.2,
             "#de77ae"
            ],
            [
             0.3,
             "#f1b6da"
            ],
            [
             0.4,
             "#fde0ef"
            ],
            [
             0.5,
             "#f7f7f7"
            ],
            [
             0.6,
             "#e6f5d0"
            ],
            [
             0.7,
             "#b8e186"
            ],
            [
             0.8,
             "#7fbc41"
            ],
            [
             0.9,
             "#4d9221"
            ],
            [
             1,
             "#276419"
            ]
           ],
           "sequential": [
            [
             0,
             "#0d0887"
            ],
            [
             0.1111111111111111,
             "#46039f"
            ],
            [
             0.2222222222222222,
             "#7201a8"
            ],
            [
             0.3333333333333333,
             "#9c179e"
            ],
            [
             0.4444444444444444,
             "#bd3786"
            ],
            [
             0.5555555555555556,
             "#d8576b"
            ],
            [
             0.6666666666666666,
             "#ed7953"
            ],
            [
             0.7777777777777778,
             "#fb9f3a"
            ],
            [
             0.8888888888888888,
             "#fdca26"
            ],
            [
             1,
             "#f0f921"
            ]
           ],
           "sequentialminus": [
            [
             0,
             "#0d0887"
            ],
            [
             0.1111111111111111,
             "#46039f"
            ],
            [
             0.2222222222222222,
             "#7201a8"
            ],
            [
             0.3333333333333333,
             "#9c179e"
            ],
            [
             0.4444444444444444,
             "#bd3786"
            ],
            [
             0.5555555555555556,
             "#d8576b"
            ],
            [
             0.6666666666666666,
             "#ed7953"
            ],
            [
             0.7777777777777778,
             "#fb9f3a"
            ],
            [
             0.8888888888888888,
             "#fdca26"
            ],
            [
             1,
             "#f0f921"
            ]
           ]
          },
          "colorway": [
           "#636efa",
           "#EF553B",
           "#00cc96",
           "#ab63fa",
           "#FFA15A",
           "#19d3f3",
           "#FF6692",
           "#B6E880",
           "#FF97FF",
           "#FECB52"
          ],
          "font": {
           "color": "#f2f5fa"
          },
          "geo": {
           "bgcolor": "rgb(17,17,17)",
           "lakecolor": "rgb(17,17,17)",
           "landcolor": "rgb(17,17,17)",
           "showlakes": true,
           "showland": true,
           "subunitcolor": "#506784"
          },
          "hoverlabel": {
           "align": "left"
          },
          "hovermode": "closest",
          "mapbox": {
           "style": "dark"
          },
          "paper_bgcolor": "rgb(17,17,17)",
          "plot_bgcolor": "rgb(17,17,17)",
          "polar": {
           "angularaxis": {
            "gridcolor": "#506784",
            "linecolor": "#506784",
            "ticks": ""
           },
           "bgcolor": "rgb(17,17,17)",
           "radialaxis": {
            "gridcolor": "#506784",
            "linecolor": "#506784",
            "ticks": ""
           }
          },
          "scene": {
           "xaxis": {
            "backgroundcolor": "rgb(17,17,17)",
            "gridcolor": "#506784",
            "gridwidth": 2,
            "linecolor": "#506784",
            "showbackground": true,
            "ticks": "",
            "zerolinecolor": "#C8D4E3"
           },
           "yaxis": {
            "backgroundcolor": "rgb(17,17,17)",
            "gridcolor": "#506784",
            "gridwidth": 2,
            "linecolor": "#506784",
            "showbackground": true,
            "ticks": "",
            "zerolinecolor": "#C8D4E3"
           },
           "zaxis": {
            "backgroundcolor": "rgb(17,17,17)",
            "gridcolor": "#506784",
            "gridwidth": 2,
            "linecolor": "#506784",
            "showbackground": true,
            "ticks": "",
            "zerolinecolor": "#C8D4E3"
           }
          },
          "shapedefaults": {
           "line": {
            "color": "#f2f5fa"
           }
          },
          "sliderdefaults": {
           "bgcolor": "#C8D4E3",
           "bordercolor": "rgb(17,17,17)",
           "borderwidth": 1,
           "tickwidth": 0
          },
          "ternary": {
           "aaxis": {
            "gridcolor": "#506784",
            "linecolor": "#506784",
            "ticks": ""
           },
           "baxis": {
            "gridcolor": "#506784",
            "linecolor": "#506784",
            "ticks": ""
           },
           "bgcolor": "rgb(17,17,17)",
           "caxis": {
            "gridcolor": "#506784",
            "linecolor": "#506784",
            "ticks": ""
           }
          },
          "title": {
           "x": 0.05
          },
          "updatemenudefaults": {
           "bgcolor": "#506784",
           "borderwidth": 0
          },
          "xaxis": {
           "automargin": true,
           "gridcolor": "#283442",
           "linecolor": "#506784",
           "ticks": "",
           "title": {
            "standoff": 15
           },
           "zerolinecolor": "#283442",
           "zerolinewidth": 2
          },
          "yaxis": {
           "automargin": true,
           "gridcolor": "#283442",
           "linecolor": "#506784",
           "ticks": "",
           "title": {
            "standoff": 15
           },
           "zerolinecolor": "#283442",
           "zerolinewidth": 2
          }
         }
        },
        "xaxis": {
         "anchor": "y",
         "domain": [
          0,
          1
         ],
         "title": {
          "text": "round-time"
         }
        },
        "yaxis": {
         "anchor": "x",
         "domain": [
          0,
          1
         ],
         "title": {
          "text": "volume"
         }
        }
       }
      },
      "text/html": [
       "<div>                            <div id=\"9d4332f5-ede7-47a6-b8f8-157efe92788c\" class=\"plotly-graph-div\" style=\"height:525px; width:100%;\"></div>            <script type=\"text/javascript\">                require([\"plotly\"], function(Plotly) {                    window.PLOTLYENV=window.PLOTLYENV || {};                                    if (document.getElementById(\"9d4332f5-ede7-47a6-b8f8-157efe92788c\")) {                    Plotly.newPlot(                        \"9d4332f5-ede7-47a6-b8f8-157efe92788c\",                        [{\"hovertemplate\":\"round-time=%{x}<br>volume=%{y}<extra></extra>\",\"legendgroup\":\"\",\"line\":{\"color\":\"#636efa\",\"dash\":\"solid\"},\"marker\":{\"symbol\":\"circle\"},\"mode\":\"lines\",\"name\":\"\",\"orientation\":\"v\",\"showlegend\":false,\"x\":[\"2021-01-22\",\"2021-01-23\",\"2021-01-24\",\"2021-01-25\",\"2021-01-26\",\"2021-01-27\",\"2021-01-28\",\"2021-01-29\",\"2021-01-30\",\"2021-01-31\",\"2021-02-01\",\"2021-02-02\",\"2021-02-03\",\"2021-02-04\",\"2021-02-05\",\"2021-02-06\",\"2021-02-07\",\"2021-02-08\",\"2021-02-09\",\"2021-02-10\",\"2021-02-11\",\"2021-02-12\",\"2021-02-13\",\"2021-02-14\",\"2021-02-15\",\"2021-02-16\",\"2021-02-17\",\"2021-02-18\",\"2021-02-19\",\"2021-02-20\",\"2021-02-21\",\"2021-02-22\",\"2021-02-23\",\"2021-02-24\",\"2021-02-25\",\"2021-02-26\",\"2021-02-27\",\"2021-02-28\",\"2021-03-01\",\"2021-03-02\",\"2021-03-03\",\"2021-03-04\",\"2021-03-05\",\"2021-03-06\",\"2021-03-07\",\"2021-03-08\",\"2021-03-09\",\"2021-03-10\",\"2021-03-11\",\"2021-03-12\",\"2021-03-13\",\"2021-03-14\",\"2021-03-15\",\"2021-03-16\",\"2021-03-17\",\"2021-03-18\",\"2021-03-19\",\"2021-03-20\",\"2021-03-21\",\"2021-03-22\",\"2021-03-23\",\"2021-03-24\",\"2021-03-25\",\"2021-03-26\",\"2021-03-27\",\"2021-03-28\",\"2021-03-29\",\"2021-03-30\",\"2021-03-31\",\"2021-04-01\",\"2021-04-02\",\"2021-04-03\",\"2021-04-04\",\"2021-04-05\",\"2021-04-06\",\"2021-04-07\",\"2021-04-08\",\"2021-04-09\",\"2021-04-10\",\"2021-04-11\",\"2021-04-12\",\"2021-04-13\",\"2021-04-14\",\"2021-04-15\",\"2021-04-16\",\"2021-04-17\",\"2021-04-18\",\"2021-04-19\",\"2021-04-20\",\"2021-04-21\",\"2021-04-22\",\"2021-04-23\",\"2021-04-24\",\"2021-04-25\",\"2021-04-26\",\"2021-04-27\",\"2021-04-28\",\"2021-04-29\",\"2021-04-30\",\"2021-05-01\",\"2021-05-02\",\"2021-05-03\",\"2021-05-04\",\"2021-05-05\",\"2021-05-06\",\"2021-05-07\",\"2021-05-08\",\"2021-05-09\",\"2021-05-10\",\"2021-05-11\",\"2021-05-12\",\"2021-05-13\",\"2021-05-14\",\"2021-05-15\",\"2021-05-16\",\"2021-05-17\",\"2021-05-18\",\"2021-05-19\",\"2021-05-20\",\"2021-05-21\",\"2021-05-22\",\"2021-05-23\",\"2021-05-24\",\"2021-05-25\",\"2021-05-26\",\"2021-05-27\",\"2021-05-28\",\"2021-05-29\",\"2021-05-30\",\"2021-05-31\",\"2021-06-01\",\"2021-06-02\",\"2021-06-03\",\"2021-06-04\",\"2021-06-05\",\"2021-06-06\",\"2021-06-07\",\"2021-06-08\",\"2021-06-09\",\"2021-06-10\",\"2021-06-11\",\"2021-06-12\",\"2021-06-13\",\"2021-06-14\",\"2021-06-15\",\"2021-06-16\",\"2021-06-17\",\"2021-06-18\",\"2021-06-19\",\"2021-06-20\",\"2021-06-21\",\"2021-06-22\",\"2021-06-23\",\"2021-06-24\",\"2021-06-25\",\"2021-06-26\",\"2021-06-27\",\"2021-06-28\",\"2021-06-29\",\"2021-06-30\",\"2021-07-01\",\"2021-07-02\",\"2021-07-03\",\"2021-07-04\",\"2021-07-05\",\"2021-07-06\",\"2021-07-07\",\"2021-07-08\",\"2021-07-09\",\"2021-07-10\",\"2021-07-11\",\"2021-07-12\",\"2021-07-13\",\"2021-07-14\",\"2021-07-15\",\"2021-07-16\",\"2021-07-17\",\"2021-07-18\",\"2021-07-19\",\"2021-07-20\",\"2021-07-21\",\"2021-07-22\",\"2021-07-23\",\"2021-07-24\",\"2021-07-25\",\"2021-07-26\",\"2021-07-27\",\"2021-07-28\",\"2021-07-29\",\"2021-07-30\",\"2021-07-31\",\"2021-08-01\",\"2021-08-02\",\"2021-08-03\",\"2021-08-04\",\"2021-08-05\",\"2021-08-06\",\"2021-08-07\",\"2021-08-08\",\"2021-08-09\",\"2021-08-10\",\"2021-08-11\",\"2021-08-12\",\"2021-08-13\",\"2021-08-14\",\"2021-08-15\",\"2021-08-16\",\"2021-08-17\",\"2021-08-18\",\"2021-08-19\",\"2021-08-20\",\"2021-08-21\",\"2021-08-22\",\"2021-08-23\",\"2021-08-24\",\"2021-08-25\",\"2021-08-26\",\"2021-08-27\",\"2021-08-28\",\"2021-08-29\",\"2021-08-30\",\"2021-08-31\",\"2021-09-01\",\"2021-09-02\",\"2021-09-03\",\"2021-09-04\",\"2021-09-05\",\"2021-09-06\",\"2021-09-07\",\"2021-09-08\",\"2021-09-09\",\"2021-09-10\",\"2021-09-11\",\"2021-09-12\",\"2021-09-13\",\"2021-09-14\",\"2021-09-15\",\"2021-09-16\",\"2021-09-17\",\"2021-09-18\",\"2021-09-19\",\"2021-09-20\",\"2021-09-21\",\"2021-09-22\",\"2021-09-23\",\"2021-09-24\",\"2021-09-25\",\"2021-09-26\",\"2021-09-27\",\"2021-09-28\",\"2021-09-29\",\"2021-09-30\",\"2021-10-01\",\"2021-10-02\",\"2021-10-03\",\"2021-10-04\",\"2021-10-05\",\"2021-10-06\",\"2021-10-07\",\"2021-10-08\",\"2021-10-09\"],\"xaxis\":\"x\",\"y\":[19274045.959999997,20364109.55,1661494.34,13488398.93,9178004.73,9007836.7,20047076.0,45832745.85,1049019.53,4222355.081,14616105.45,14170059.13,18249433.74,47173032.699999996,31630474.316,16141319.3621,20859365.85,13456033.06,10063333.14,50639476.673443,44197976.115171,49268699.389122,15742531.224055,4079601.155604,23154402.549204,15003303.099012,35458372.131421,43303667.785388,41713008.289942004,20370949.662452,16900522.409846,54226984.812929,16514074.146476,18700819.386925,21389288.32,28403669.059381,6437765.578462,11984401.741088001,20395669.6115,8934521.069412,18955166.27,19399930.691978,18563866.355826,8311534.774996,4961886.614856,23239435.967151,58046818.070924,29873718.213491,16077675.657072,17623938.284454,96980050.715332,1995862.307706,24227595.396856,30220089.92006,25166635.810888,24750856.70128,33867355.686616,20110286.701824002,8166067.410571999,15618548.828,22382295.628000002,19725515.347,23239345.306962002,12815151.591272,8462723.793772,4239647.66849,26179729.833164,21078578.781,29918356.71,28988298.204582002,6942731.509173,21210157.7428,3472061.8200000003,45409514.7734,20306277.17,54434083.054,27602265.889027,44184050.187058,10209535.788,16139173.91,27470571.862274,39959968.55,47112141.26444,61528365.748766,62208014.631216995,12332373.350498,32409266.991090998,47434483.07549,75163671.561471,32545314.392717,46501221.984767,61966116.595979,14617171.787258,13503485.574632,26917300.172079,35647724.922841996,33394617.052,35223295.881572,38871404.405002,43965976.034258,25890820.198592,76719111.673055,53477394.169092,34652184.667945996,44245152.173098,38679798.684044,77525026.065164,19443019.474904,39972490.205122,60644432.68458,45478920.373389,43695375.888026,53417722.953255,33683464.085347,15728060.236964,64842012.983890004,34753325.639435,44386580.469004,59959966.671957,92681671.376674,34546041.433507,38827473.272103,97246309.068744,37641786.258747,41701883.124315,31187897.037762,36006871.957795,18100244.945013,21568727.642896,11012503.493244,32910057.17766,51278058.359342,44254553.265187,54127650.087881,164690133.663733,11173807.213705,69499704.154525,39756127.124514,28483353.074517,17036538.635709,21945259.181319002,6167367.43315,7598865.81013,42236783.059,67332946.391244,25296735.35103,20829786.439333,57970996.565365,43428427.611465,5371865.52398,70059420.747801,93178896.480987,60729283.361292,20486084.524831,75557252.082423,11227797.167574,6997854.847867,20463650.913437,10457559.089924,48933896.371074,13154622.719999,16999739.615155,136202.823182,6506579.831352,4926366.129923,10436693.130858,7937419.496433,9777622.065121999,5588980.044688,931417.636713,415508.843744,6800904.332498,10113634.301256001,42911323.195489004,44551333.863208,12112040.914107,621804.309706,374230.000852,52634896.362742,4902990.914399,16308009.61219,2801509.618469,12412940.3492,601779.536664,38949.2227,16020012.246189,60200879.112056,23639578.999649,76830503.433214,20161801.832747,1473713.710674,3826817.853898,6378479.376037,26005828.040602,16849577.477386,22101066.796218,16963742.98878,2907160.670042,4833177.234589,6943578.967158,23712833.983846,16107041.39343,11546498.075174,18728144.546210002,1274475.1613190002,576606.763473,20990322.084948,72708435.137856,4769652.784996,11644047.44561,24564118.330915,41214478.553209,2558540.9092139998,63268186.258166,8542198.748869,23427206.349493,24620098.998246,21977081.474294998,2205710.669896,3674403.800286,20366013.799901,27786630.256464,19845376.980407,19932643.013978,23791329.750943,494980.374552,926118.700271,11702608.077844,27280628.198898,21135941.058215,51107745.119813,38069069.113738,1540022.932492,2335028.549658,23065951.419401,99616816.16808599,75444015.290156,41053497.134493,25516231.222734,1270382.917904,2149599.378586,12589767.652648,262744826.00473002,31559239.145879,103390755.622842,69910430.509284,731031.795496,1221032.08183,14388646.53991,73140230.989572,25629218.409143,16316636.265832,12884862.147935,2752447.9275559997,2219657.478688,14339452.831157,69821346.976647,28395283.3369,38890149.629834004,13056525.673034,927404.292431],\"yaxis\":\"y\",\"type\":\"scatter\"}],                        {\"template\":{\"data\":{\"barpolar\":[{\"marker\":{\"line\":{\"color\":\"rgb(17,17,17)\",\"width\":0.5},\"pattern\":{\"fillmode\":\"overlay\",\"size\":10,\"solidity\":0.2}},\"type\":\"barpolar\"}],\"bar\":[{\"error_x\":{\"color\":\"#f2f5fa\"},\"error_y\":{\"color\":\"#f2f5fa\"},\"marker\":{\"line\":{\"color\":\"rgb(17,17,17)\",\"width\":0.5},\"pattern\":{\"fillmode\":\"overlay\",\"size\":10,\"solidity\":0.2}},\"type\":\"bar\"}],\"carpet\":[{\"aaxis\":{\"endlinecolor\":\"#A2B1C6\",\"gridcolor\":\"#506784\",\"linecolor\":\"#506784\",\"minorgridcolor\":\"#506784\",\"startlinecolor\":\"#A2B1C6\"},\"baxis\":{\"endlinecolor\":\"#A2B1C6\",\"gridcolor\":\"#506784\",\"linecolor\":\"#506784\",\"minorgridcolor\":\"#506784\",\"startlinecolor\":\"#A2B1C6\"},\"type\":\"carpet\"}],\"choropleth\":[{\"colorbar\":{\"outlinewidth\":0,\"ticks\":\"\"},\"type\":\"choropleth\"}],\"contourcarpet\":[{\"colorbar\":{\"outlinewidth\":0,\"ticks\":\"\"},\"type\":\"contourcarpet\"}],\"contour\":[{\"colorbar\":{\"outlinewidth\":0,\"ticks\":\"\"},\"colorscale\":[[0.0,\"#0d0887\"],[0.1111111111111111,\"#46039f\"],[0.2222222222222222,\"#7201a8\"],[0.3333333333333333,\"#9c179e\"],[0.4444444444444444,\"#bd3786\"],[0.5555555555555556,\"#d8576b\"],[0.6666666666666666,\"#ed7953\"],[0.7777777777777778,\"#fb9f3a\"],[0.8888888888888888,\"#fdca26\"],[1.0,\"#f0f921\"]],\"type\":\"contour\"}],\"heatmapgl\":[{\"colorbar\":{\"outlinewidth\":0,\"ticks\":\"\"},\"colorscale\":[[0.0,\"#0d0887\"],[0.1111111111111111,\"#46039f\"],[0.2222222222222222,\"#7201a8\"],[0.3333333333333333,\"#9c179e\"],[0.4444444444444444,\"#bd3786\"],[0.5555555555555556,\"#d8576b\"],[0.6666666666666666,\"#ed7953\"],[0.7777777777777778,\"#fb9f3a\"],[0.8888888888888888,\"#fdca26\"],[1.0,\"#f0f921\"]],\"type\":\"heatmapgl\"}],\"heatmap\":[{\"colorbar\":{\"outlinewidth\":0,\"ticks\":\"\"},\"colorscale\":[[0.0,\"#0d0887\"],[0.1111111111111111,\"#46039f\"],[0.2222222222222222,\"#7201a8\"],[0.3333333333333333,\"#9c179e\"],[0.4444444444444444,\"#bd3786\"],[0.5555555555555556,\"#d8576b\"],[0.6666666666666666,\"#ed7953\"],[0.7777777777777778,\"#fb9f3a\"],[0.8888888888888888,\"#fdca26\"],[1.0,\"#f0f921\"]],\"type\":\"heatmap\"}],\"histogram2dcontour\":[{\"colorbar\":{\"outlinewidth\":0,\"ticks\":\"\"},\"colorscale\":[[0.0,\"#0d0887\"],[0.1111111111111111,\"#46039f\"],[0.2222222222222222,\"#7201a8\"],[0.3333333333333333,\"#9c179e\"],[0.4444444444444444,\"#bd3786\"],[0.5555555555555556,\"#d8576b\"],[0.6666666666666666,\"#ed7953\"],[0.7777777777777778,\"#fb9f3a\"],[0.8888888888888888,\"#fdca26\"],[1.0,\"#f0f921\"]],\"type\":\"histogram2dcontour\"}],\"histogram2d\":[{\"colorbar\":{\"outlinewidth\":0,\"ticks\":\"\"},\"colorscale\":[[0.0,\"#0d0887\"],[0.1111111111111111,\"#46039f\"],[0.2222222222222222,\"#7201a8\"],[0.3333333333333333,\"#9c179e\"],[0.4444444444444444,\"#bd3786\"],[0.5555555555555556,\"#d8576b\"],[0.6666666666666666,\"#ed7953\"],[0.7777777777777778,\"#fb9f3a\"],[0.8888888888888888,\"#fdca26\"],[1.0,\"#f0f921\"]],\"type\":\"histogram2d\"}],\"histogram\":[{\"marker\":{\"pattern\":{\"fillmode\":\"overlay\",\"size\":10,\"solidity\":0.2}},\"type\":\"histogram\"}],\"mesh3d\":[{\"colorbar\":{\"outlinewidth\":0,\"ticks\":\"\"},\"type\":\"mesh3d\"}],\"parcoords\":[{\"line\":{\"colorbar\":{\"outlinewidth\":0,\"ticks\":\"\"}},\"type\":\"parcoords\"}],\"pie\":[{\"automargin\":true,\"type\":\"pie\"}],\"scatter3d\":[{\"line\":{\"colorbar\":{\"outlinewidth\":0,\"ticks\":\"\"}},\"marker\":{\"colorbar\":{\"outlinewidth\":0,\"ticks\":\"\"}},\"type\":\"scatter3d\"}],\"scattercarpet\":[{\"marker\":{\"colorbar\":{\"outlinewidth\":0,\"ticks\":\"\"}},\"type\":\"scattercarpet\"}],\"scattergeo\":[{\"marker\":{\"colorbar\":{\"outlinewidth\":0,\"ticks\":\"\"}},\"type\":\"scattergeo\"}],\"scattergl\":[{\"marker\":{\"line\":{\"color\":\"#283442\"}},\"type\":\"scattergl\"}],\"scattermapbox\":[{\"marker\":{\"colorbar\":{\"outlinewidth\":0,\"ticks\":\"\"}},\"type\":\"scattermapbox\"}],\"scatterpolargl\":[{\"marker\":{\"colorbar\":{\"outlinewidth\":0,\"ticks\":\"\"}},\"type\":\"scatterpolargl\"}],\"scatterpolar\":[{\"marker\":{\"colorbar\":{\"outlinewidth\":0,\"ticks\":\"\"}},\"type\":\"scatterpolar\"}],\"scatter\":[{\"marker\":{\"line\":{\"color\":\"#283442\"}},\"type\":\"scatter\"}],\"scatterternary\":[{\"marker\":{\"colorbar\":{\"outlinewidth\":0,\"ticks\":\"\"}},\"type\":\"scatterternary\"}],\"surface\":[{\"colorbar\":{\"outlinewidth\":0,\"ticks\":\"\"},\"colorscale\":[[0.0,\"#0d0887\"],[0.1111111111111111,\"#46039f\"],[0.2222222222222222,\"#7201a8\"],[0.3333333333333333,\"#9c179e\"],[0.4444444444444444,\"#bd3786\"],[0.5555555555555556,\"#d8576b\"],[0.6666666666666666,\"#ed7953\"],[0.7777777777777778,\"#fb9f3a\"],[0.8888888888888888,\"#fdca26\"],[1.0,\"#f0f921\"]],\"type\":\"surface\"}],\"table\":[{\"cells\":{\"fill\":{\"color\":\"#506784\"},\"line\":{\"color\":\"rgb(17,17,17)\"}},\"header\":{\"fill\":{\"color\":\"#2a3f5f\"},\"line\":{\"color\":\"rgb(17,17,17)\"}},\"type\":\"table\"}]},\"layout\":{\"annotationdefaults\":{\"arrowcolor\":\"#f2f5fa\",\"arrowhead\":0,\"arrowwidth\":1},\"autotypenumbers\":\"strict\",\"coloraxis\":{\"colorbar\":{\"outlinewidth\":0,\"ticks\":\"\"}},\"colorscale\":{\"diverging\":[[0,\"#8e0152\"],[0.1,\"#c51b7d\"],[0.2,\"#de77ae\"],[0.3,\"#f1b6da\"],[0.4,\"#fde0ef\"],[0.5,\"#f7f7f7\"],[0.6,\"#e6f5d0\"],[0.7,\"#b8e186\"],[0.8,\"#7fbc41\"],[0.9,\"#4d9221\"],[1,\"#276419\"]],\"sequential\":[[0.0,\"#0d0887\"],[0.1111111111111111,\"#46039f\"],[0.2222222222222222,\"#7201a8\"],[0.3333333333333333,\"#9c179e\"],[0.4444444444444444,\"#bd3786\"],[0.5555555555555556,\"#d8576b\"],[0.6666666666666666,\"#ed7953\"],[0.7777777777777778,\"#fb9f3a\"],[0.8888888888888888,\"#fdca26\"],[1.0,\"#f0f921\"]],\"sequentialminus\":[[0.0,\"#0d0887\"],[0.1111111111111111,\"#46039f\"],[0.2222222222222222,\"#7201a8\"],[0.3333333333333333,\"#9c179e\"],[0.4444444444444444,\"#bd3786\"],[0.5555555555555556,\"#d8576b\"],[0.6666666666666666,\"#ed7953\"],[0.7777777777777778,\"#fb9f3a\"],[0.8888888888888888,\"#fdca26\"],[1.0,\"#f0f921\"]]},\"colorway\":[\"#636efa\",\"#EF553B\",\"#00cc96\",\"#ab63fa\",\"#FFA15A\",\"#19d3f3\",\"#FF6692\",\"#B6E880\",\"#FF97FF\",\"#FECB52\"],\"font\":{\"color\":\"#f2f5fa\"},\"geo\":{\"bgcolor\":\"rgb(17,17,17)\",\"lakecolor\":\"rgb(17,17,17)\",\"landcolor\":\"rgb(17,17,17)\",\"showlakes\":true,\"showland\":true,\"subunitcolor\":\"#506784\"},\"hoverlabel\":{\"align\":\"left\"},\"hovermode\":\"closest\",\"mapbox\":{\"style\":\"dark\"},\"paper_bgcolor\":\"rgb(17,17,17)\",\"plot_bgcolor\":\"rgb(17,17,17)\",\"polar\":{\"angularaxis\":{\"gridcolor\":\"#506784\",\"linecolor\":\"#506784\",\"ticks\":\"\"},\"bgcolor\":\"rgb(17,17,17)\",\"radialaxis\":{\"gridcolor\":\"#506784\",\"linecolor\":\"#506784\",\"ticks\":\"\"}},\"scene\":{\"xaxis\":{\"backgroundcolor\":\"rgb(17,17,17)\",\"gridcolor\":\"#506784\",\"gridwidth\":2,\"linecolor\":\"#506784\",\"showbackground\":true,\"ticks\":\"\",\"zerolinecolor\":\"#C8D4E3\"},\"yaxis\":{\"backgroundcolor\":\"rgb(17,17,17)\",\"gridcolor\":\"#506784\",\"gridwidth\":2,\"linecolor\":\"#506784\",\"showbackground\":true,\"ticks\":\"\",\"zerolinecolor\":\"#C8D4E3\"},\"zaxis\":{\"backgroundcolor\":\"rgb(17,17,17)\",\"gridcolor\":\"#506784\",\"gridwidth\":2,\"linecolor\":\"#506784\",\"showbackground\":true,\"ticks\":\"\",\"zerolinecolor\":\"#C8D4E3\"}},\"shapedefaults\":{\"line\":{\"color\":\"#f2f5fa\"}},\"sliderdefaults\":{\"bgcolor\":\"#C8D4E3\",\"bordercolor\":\"rgb(17,17,17)\",\"borderwidth\":1,\"tickwidth\":0},\"ternary\":{\"aaxis\":{\"gridcolor\":\"#506784\",\"linecolor\":\"#506784\",\"ticks\":\"\"},\"baxis\":{\"gridcolor\":\"#506784\",\"linecolor\":\"#506784\",\"ticks\":\"\"},\"bgcolor\":\"rgb(17,17,17)\",\"caxis\":{\"gridcolor\":\"#506784\",\"linecolor\":\"#506784\",\"ticks\":\"\"}},\"title\":{\"x\":0.05},\"updatemenudefaults\":{\"bgcolor\":\"#506784\",\"borderwidth\":0},\"xaxis\":{\"automargin\":true,\"gridcolor\":\"#283442\",\"linecolor\":\"#506784\",\"ticks\":\"\",\"title\":{\"standoff\":15},\"zerolinecolor\":\"#283442\",\"zerolinewidth\":2},\"yaxis\":{\"automargin\":true,\"gridcolor\":\"#283442\",\"linecolor\":\"#506784\",\"ticks\":\"\",\"title\":{\"standoff\":15},\"zerolinecolor\":\"#283442\",\"zerolinewidth\":2}}},\"xaxis\":{\"anchor\":\"y\",\"domain\":[0.0,1.0],\"title\":{\"text\":\"round-time\"}},\"yaxis\":{\"anchor\":\"x\",\"domain\":[0.0,1.0],\"title\":{\"text\":\"volume\"}},\"legend\":{\"tracegroupgap\":0},\"margin\":{\"t\":60}},                        {\"responsive\": true}                    ).then(function(){\n",
       "                            \n",
       "var gd = document.getElementById('9d4332f5-ede7-47a6-b8f8-157efe92788c');\n",
       "var x = new MutationObserver(function (mutations, observer) {{\n",
       "        var display = window.getComputedStyle(gd).display;\n",
       "        if (!display || display === 'none') {{\n",
       "            console.log([gd, 'removed!']);\n",
       "            Plotly.purge(gd);\n",
       "            observer.disconnect();\n",
       "        }}\n",
       "}});\n",
       "\n",
       "// Listen for the removal of the full notebook cells\n",
       "var notebookContainer = gd.closest('#notebook-container');\n",
       "if (notebookContainer) {{\n",
       "    x.observe(notebookContainer, {childList: true});\n",
       "}}\n",
       "\n",
       "// Listen for the clearing of the current output cell\n",
       "var outputEl = gd.closest('.output');\n",
       "if (outputEl) {{\n",
       "    x.observe(outputEl, {childList: true});\n",
       "}}\n",
       "\n",
       "                        })                };                });            </script>        </div>"
      ]
     },
     "metadata": {},
     "output_type": "display_data"
    }
   ],
   "source": [
    "fig = px.line(ag_df, y=ag_df.volume, x=ag_df.index)\n",
    "fig.update_layout(template=\"plotly_dark\")\n",
    "fig.show()"
   ]
  },
  {
   "cell_type": "markdown",
   "metadata": {},
   "source": [
    "## Calculate the expected Volume"
   ]
  },
  {
   "cell_type": "code",
   "execution_count": 176,
   "metadata": {},
   "outputs": [
    {
     "data": {
      "text/html": [
       "<div>\n",
       "<style scoped>\n",
       "    .dataframe tbody tr th:only-of-type {\n",
       "        vertical-align: middle;\n",
       "    }\n",
       "\n",
       "    .dataframe tbody tr th {\n",
       "        vertical-align: top;\n",
       "    }\n",
       "\n",
       "    .dataframe thead th {\n",
       "        text-align: right;\n",
       "    }\n",
       "</style>\n",
       "<table border=\"1\" class=\"dataframe\">\n",
       "  <thead>\n",
       "    <tr style=\"text-align: right;\">\n",
       "      <th></th>\n",
       "      <th>volume</th>\n",
       "      <th>mean</th>\n",
       "      <th>volume-1</th>\n",
       "      <th>volume_diff</th>\n",
       "    </tr>\n",
       "    <tr>\n",
       "      <th>round-time</th>\n",
       "      <th></th>\n",
       "      <th></th>\n",
       "      <th></th>\n",
       "      <th></th>\n",
       "    </tr>\n",
       "  </thead>\n",
       "  <tbody>\n",
       "    <tr>\n",
       "      <th>2021-01-22</th>\n",
       "      <td>1.927405e+07</td>\n",
       "      <td>275343.513714</td>\n",
       "      <td>NaN</td>\n",
       "      <td>NaN</td>\n",
       "    </tr>\n",
       "    <tr>\n",
       "      <th>2021-01-23</th>\n",
       "      <td>2.036411e+07</td>\n",
       "      <td>452535.767778</td>\n",
       "      <td>1.927405e+07</td>\n",
       "      <td>1.090064e+06</td>\n",
       "    </tr>\n",
       "    <tr>\n",
       "      <th>2021-01-24</th>\n",
       "      <td>1.661494e+06</td>\n",
       "      <td>75522.470000</td>\n",
       "      <td>2.036411e+07</td>\n",
       "      <td>-1.870262e+07</td>\n",
       "    </tr>\n",
       "    <tr>\n",
       "      <th>2021-01-25</th>\n",
       "      <td>1.348840e+07</td>\n",
       "      <td>85369.613481</td>\n",
       "      <td>1.661494e+06</td>\n",
       "      <td>1.182690e+07</td>\n",
       "    </tr>\n",
       "    <tr>\n",
       "      <th>2021-01-26</th>\n",
       "      <td>9.178005e+06</td>\n",
       "      <td>31217.703163</td>\n",
       "      <td>1.348840e+07</td>\n",
       "      <td>-4.310394e+06</td>\n",
       "    </tr>\n",
       "    <tr>\n",
       "      <th>...</th>\n",
       "      <td>...</td>\n",
       "      <td>...</td>\n",
       "      <td>...</td>\n",
       "      <td>...</td>\n",
       "    </tr>\n",
       "    <tr>\n",
       "      <th>2021-10-05</th>\n",
       "      <td>6.982135e+07</td>\n",
       "      <td>347369.885456</td>\n",
       "      <td>1.433945e+07</td>\n",
       "      <td>5.548189e+07</td>\n",
       "    </tr>\n",
       "    <tr>\n",
       "      <th>2021-10-06</th>\n",
       "      <td>2.839528e+07</td>\n",
       "      <td>155165.482715</td>\n",
       "      <td>6.982135e+07</td>\n",
       "      <td>-4.142606e+07</td>\n",
       "    </tr>\n",
       "    <tr>\n",
       "      <th>2021-10-07</th>\n",
       "      <td>3.889015e+07</td>\n",
       "      <td>18733.212731</td>\n",
       "      <td>2.839528e+07</td>\n",
       "      <td>1.049487e+07</td>\n",
       "    </tr>\n",
       "    <tr>\n",
       "      <th>2021-10-08</th>\n",
       "      <td>1.305653e+07</td>\n",
       "      <td>1742.263901</td>\n",
       "      <td>3.889015e+07</td>\n",
       "      <td>-2.583362e+07</td>\n",
       "    </tr>\n",
       "    <tr>\n",
       "      <th>2021-10-09</th>\n",
       "      <td>9.274043e+05</td>\n",
       "      <td>329.919706</td>\n",
       "      <td>1.305653e+07</td>\n",
       "      <td>-1.212912e+07</td>\n",
       "    </tr>\n",
       "  </tbody>\n",
       "</table>\n",
       "<p>261 rows × 4 columns</p>\n",
       "</div>"
      ],
      "text/plain": [
       "                  volume           mean      volume-1   volume_diff\n",
       "round-time                                                         \n",
       "2021-01-22  1.927405e+07  275343.513714           NaN           NaN\n",
       "2021-01-23  2.036411e+07  452535.767778  1.927405e+07  1.090064e+06\n",
       "2021-01-24  1.661494e+06   75522.470000  2.036411e+07 -1.870262e+07\n",
       "2021-01-25  1.348840e+07   85369.613481  1.661494e+06  1.182690e+07\n",
       "2021-01-26  9.178005e+06   31217.703163  1.348840e+07 -4.310394e+06\n",
       "...                  ...            ...           ...           ...\n",
       "2021-10-05  6.982135e+07  347369.885456  1.433945e+07  5.548189e+07\n",
       "2021-10-06  2.839528e+07  155165.482715  6.982135e+07 -4.142606e+07\n",
       "2021-10-07  3.889015e+07   18733.212731  2.839528e+07  1.049487e+07\n",
       "2021-10-08  1.305653e+07    1742.263901  3.889015e+07 -2.583362e+07\n",
       "2021-10-09  9.274043e+05     329.919706  1.305653e+07 -1.212912e+07\n",
       "\n",
       "[261 rows x 4 columns]"
      ]
     },
     "execution_count": 176,
     "metadata": {},
     "output_type": "execute_result"
    }
   ],
   "source": [
    "# inserting new column with yesterday's values\n",
    "ag_df.loc[:,'volume-1'] = ag_df.loc[:,'volume'].shift()\n",
    "\n",
    "# inserting another column with difference between yesterday and day before yesterday's consumption values.\n",
    "ag_df.loc[:,'volume_diff'] = ag_df.loc[:,'volume'].diff()\n",
    "\n",
    "ag_df"
   ]
  },
  {
   "cell_type": "code",
   "execution_count": 177,
   "metadata": {},
   "outputs": [],
   "source": [
    "# dropping NAs\n",
    "ag_df = ag_df.dropna()"
   ]
  },
  {
   "cell_type": "code",
   "execution_count": 178,
   "metadata": {},
   "outputs": [
    {
     "data": {
      "text/html": [
       "<div>\n",
       "<style scoped>\n",
       "    .dataframe tbody tr th:only-of-type {\n",
       "        vertical-align: middle;\n",
       "    }\n",
       "\n",
       "    .dataframe tbody tr th {\n",
       "        vertical-align: top;\n",
       "    }\n",
       "\n",
       "    .dataframe thead th {\n",
       "        text-align: right;\n",
       "    }\n",
       "</style>\n",
       "<table border=\"1\" class=\"dataframe\">\n",
       "  <thead>\n",
       "    <tr style=\"text-align: right;\">\n",
       "      <th></th>\n",
       "      <th>volume</th>\n",
       "      <th>mean</th>\n",
       "      <th>volume-1</th>\n",
       "      <th>volume_diff</th>\n",
       "    </tr>\n",
       "    <tr>\n",
       "      <th>round-time</th>\n",
       "      <th></th>\n",
       "      <th></th>\n",
       "      <th></th>\n",
       "      <th></th>\n",
       "    </tr>\n",
       "  </thead>\n",
       "  <tbody>\n",
       "    <tr>\n",
       "      <th>2021-01-23</th>\n",
       "      <td>2.036411e+07</td>\n",
       "      <td>452535.767778</td>\n",
       "      <td>1.927405e+07</td>\n",
       "      <td>1.090064e+06</td>\n",
       "    </tr>\n",
       "    <tr>\n",
       "      <th>2021-01-24</th>\n",
       "      <td>1.661494e+06</td>\n",
       "      <td>75522.470000</td>\n",
       "      <td>2.036411e+07</td>\n",
       "      <td>-1.870262e+07</td>\n",
       "    </tr>\n",
       "    <tr>\n",
       "      <th>2021-01-25</th>\n",
       "      <td>1.348840e+07</td>\n",
       "      <td>85369.613481</td>\n",
       "      <td>1.661494e+06</td>\n",
       "      <td>1.182690e+07</td>\n",
       "    </tr>\n",
       "    <tr>\n",
       "      <th>2021-01-26</th>\n",
       "      <td>9.178005e+06</td>\n",
       "      <td>31217.703163</td>\n",
       "      <td>1.348840e+07</td>\n",
       "      <td>-4.310394e+06</td>\n",
       "    </tr>\n",
       "    <tr>\n",
       "      <th>2021-01-27</th>\n",
       "      <td>9.007837e+06</td>\n",
       "      <td>38331.220000</td>\n",
       "      <td>9.178005e+06</td>\n",
       "      <td>-1.701680e+05</td>\n",
       "    </tr>\n",
       "    <tr>\n",
       "      <th>...</th>\n",
       "      <td>...</td>\n",
       "      <td>...</td>\n",
       "      <td>...</td>\n",
       "      <td>...</td>\n",
       "    </tr>\n",
       "    <tr>\n",
       "      <th>2021-10-05</th>\n",
       "      <td>6.982135e+07</td>\n",
       "      <td>347369.885456</td>\n",
       "      <td>1.433945e+07</td>\n",
       "      <td>5.548189e+07</td>\n",
       "    </tr>\n",
       "    <tr>\n",
       "      <th>2021-10-06</th>\n",
       "      <td>2.839528e+07</td>\n",
       "      <td>155165.482715</td>\n",
       "      <td>6.982135e+07</td>\n",
       "      <td>-4.142606e+07</td>\n",
       "    </tr>\n",
       "    <tr>\n",
       "      <th>2021-10-07</th>\n",
       "      <td>3.889015e+07</td>\n",
       "      <td>18733.212731</td>\n",
       "      <td>2.839528e+07</td>\n",
       "      <td>1.049487e+07</td>\n",
       "    </tr>\n",
       "    <tr>\n",
       "      <th>2021-10-08</th>\n",
       "      <td>1.305653e+07</td>\n",
       "      <td>1742.263901</td>\n",
       "      <td>3.889015e+07</td>\n",
       "      <td>-2.583362e+07</td>\n",
       "    </tr>\n",
       "    <tr>\n",
       "      <th>2021-10-09</th>\n",
       "      <td>9.274043e+05</td>\n",
       "      <td>329.919706</td>\n",
       "      <td>1.305653e+07</td>\n",
       "      <td>-1.212912e+07</td>\n",
       "    </tr>\n",
       "  </tbody>\n",
       "</table>\n",
       "<p>260 rows × 4 columns</p>\n",
       "</div>"
      ],
      "text/plain": [
       "                  volume           mean      volume-1   volume_diff\n",
       "round-time                                                         \n",
       "2021-01-23  2.036411e+07  452535.767778  1.927405e+07  1.090064e+06\n",
       "2021-01-24  1.661494e+06   75522.470000  2.036411e+07 -1.870262e+07\n",
       "2021-01-25  1.348840e+07   85369.613481  1.661494e+06  1.182690e+07\n",
       "2021-01-26  9.178005e+06   31217.703163  1.348840e+07 -4.310394e+06\n",
       "2021-01-27  9.007837e+06   38331.220000  9.178005e+06 -1.701680e+05\n",
       "...                  ...            ...           ...           ...\n",
       "2021-10-05  6.982135e+07  347369.885456  1.433945e+07  5.548189e+07\n",
       "2021-10-06  2.839528e+07  155165.482715  6.982135e+07 -4.142606e+07\n",
       "2021-10-07  3.889015e+07   18733.212731  2.839528e+07  1.049487e+07\n",
       "2021-10-08  1.305653e+07    1742.263901  3.889015e+07 -2.583362e+07\n",
       "2021-10-09  9.274043e+05     329.919706  1.305653e+07 -1.212912e+07\n",
       "\n",
       "[260 rows x 4 columns]"
      ]
     },
     "execution_count": 178,
     "metadata": {},
     "output_type": "execute_result"
    }
   ],
   "source": [
    "ag_df"
   ]
  },
  {
   "cell_type": "markdown",
   "metadata": {},
   "source": [
    "Defining Training and Testing Data\n"
   ]
  },
  {
   "cell_type": "code",
   "execution_count": 43,
   "metadata": {},
   "outputs": [],
   "source": [
    "train = ag_df[:int(len(ag_df)*0.8)]\n",
    "test = ag_df[int(len(ag_df)*0.8):]\n",
    "\n",
    "X_train, X_test, y_train, y_test = train.drop('volume', axis=1), test.drop('volume', axis=1), train['volume'], test['volume']"
   ]
  },
  {
   "cell_type": "markdown",
   "metadata": {},
   "source": [
    "Cross Validation"
   ]
  },
  {
   "cell_type": "code",
   "execution_count": 179,
   "metadata": {},
   "outputs": [
    {
     "name": "stdout",
     "output_type": "stream",
     "text": [
      "LR: -0.000295 (0.000203)\n",
      "KNN: -134903749372518785938882560.000000 (74949917937382404478992384.000000)\n",
      "NN: -480011670344051589120.000000 (241302393136723066880.000000)\n",
      "GB: -93271645774125425536008192.000000 (45383072231212252424830976.000000)\n",
      "RF: -118171252233839920952639488.000000 (49282838319605760812646400.000000)\n"
     ]
    },
    {
     "data": {
      "image/png": "[encoded data removed]",
      "text/plain": [
       "<Figure size 432x288 with 1 Axes>"
      ]
     },
     "metadata": {
      "needs_background": "light"
     },
     "output_type": "display_data"
    }
   ],
   "source": [
    "from sklearn.model_selection import TimeSeriesSplit, cross_val_score\n",
    "from sklearn.ensemble import RandomForestRegressor, GradientBoostingRegressor, AdaBoostRegressor, StackingRegressor\n",
    "from sklearn.model_selection import train_test_split\n",
    "from sklearn.linear_model import LinearRegression, ElasticNet, LassoLars, Lasso, RidgeCV\n",
    "from sklearn.neural_network import MLPRegressor\n",
    "from sklearn.neighbors import KNeighborsRegressor\n",
    "import matplotlib.pyplot as plt \n",
    "\n",
    "models = []\n",
    "models.append(('LR', LinearRegression()))\n",
    "models.append(('KNN', KNeighborsRegressor())) \n",
    "models.append(('NN', MLPRegressor(solver = 'lbfgs', random_state=42)))  #neural network\n",
    "models.append(('GB', GradientBoostingRegressor(random_state=42))) \n",
    "models.append(('RF', RandomForestRegressor(n_estimators = 10, random_state=42))) # Ensemble method - collection of many decision trees\n",
    "\n",
    "\n",
    "# Evaluate each model in turn\n",
    "results = []\n",
    "names = []\n",
    "for name, model in models:\n",
    "    # TimeSeries Cross validation\n",
    "    tscv = TimeSeriesSplit(n_splits=4)\n",
    "\n",
    "    cv_results = cross_val_score(model, X_train, y_train, cv=tscv, scoring='neg_mean_squared_error')\n",
    "    results.append(cv_results)\n",
    "    names.append(name)\n",
    "    print('%s: %f (%f)' % (name, cv_results.mean(), cv_results.std()))\n",
    "    \n",
    "# Compare Algorithms\n",
    "plt.boxplot(results, labels=names)\n",
    "plt.title('Algorithm Comparison')\n",
    "plt.show()\n"
   ]
  },
  {
   "cell_type": "code",
   "execution_count": 180,
   "metadata": {},
   "outputs": [
    {
     "name": "stdout",
     "output_type": "stream",
     "text": [
      "RandomForestRegressor(max_depth=14, n_estimators=10, random_state=42) at -1.1829872433382825e+26\n"
     ]
    }
   ],
   "source": [
    "from sklearn.model_selection import GridSearchCV\n",
    "model = RandomForestRegressor(random_state=42)\n",
    "param_search = { \n",
    "    'n_estimators': [10, 20, 50, 100],\n",
    "    'max_features': ['auto', 'sqrt', 'log2'],\n",
    "    'max_depth' : [i for i in range(1,15)]\n",
    "}\n",
    "tscv = TimeSeriesSplit(n_splits=4)\n",
    "gsearch = GridSearchCV(estimator=model, cv=tscv, param_grid=param_search, scoring = 'neg_mean_squared_error')\n",
    "gsearch.fit(X_train, y_train)\n",
    "rf_best_score = gsearch.best_score_\n",
    "rf_best_model = gsearch.best_estimator_\n",
    "print(f\"{rf_best_model} at {rf_best_score}\")"
   ]
  },
  {
   "cell_type": "code",
   "execution_count": 89,
   "metadata": {},
   "outputs": [
    {
     "name": "stdout",
     "output_type": "stream",
     "text": [
      "MLPRegressor(activation='identity', max_iter=100, random_state=1,\n",
      "             solver='lbfgs') at -0.013654341390242845\n"
     ]
    }
   ],
   "source": [
    "model = MLPRegressor(random_state=1)\n",
    "param_search = { \n",
    "    'max_iter':[ 100, 200, 400, 600, 800, 1000],\n",
    "    'solver': ['lbfgs', 'sgd', 'adam'],\n",
    "    'activation':['identity', 'logistic', 'tanh', 'relu'],\n",
    "}\n",
    "\n",
    "tscv = TimeSeriesSplit(n_splits=4)\n",
    "gsearch = GridSearchCV(estimator=model, cv=tscv, param_grid=param_search, scoring = 'neg_mean_squared_error')\n",
    "gsearch.fit(X_train, y_train)\n",
    "best_score = gsearch.best_score_\n",
    "best_model = gsearch.best_estimator_\n",
    "print(f\"{best_model} at {best_score}\")"
   ]
  },
  {
   "cell_type": "code",
   "execution_count": null,
   "metadata": {},
   "outputs": [],
   "source": [
    "import sklearn.metrics as metrics\n",
    "\n",
    "def regression_results(y_true, y_pred):\n",
    "    # Regression metrics\n",
    "    explained_variance=metrics.explained_variance_score(y_true, y_pred)\n",
    "    mean_absolute_error=metrics.mean_absolute_error(y_true, y_pred) \n",
    "    mse=metrics.mean_squared_error(y_true, y_pred) \n",
    "    mean_squared_log_error=metrics.mean_squared_log_error(y_true, y_pred)\n",
    "    r2=metrics.r2_score(y_true, y_pred)\n",
    "    \n",
    "    print('explained_variance: ', round(explained_variance, 4))    \n",
    "    print('mean_squared_log_error: ', round(mean_squared_log_error, 4))\n",
    "    print('r2: ', round(r2, 4))\n",
    "    print('MAE: ', round(mean_absolute_error, 4))\n",
    "    print('MSE: ', round(mse, 4))\n",
    "    print('RMSE: ', round(np.sqrt(mse), 4))"
   ]
  },
  {
   "cell_type": "code",
   "execution_count": 84,
   "metadata": {},
   "outputs": [
    {
     "name": "stdout",
     "output_type": "stream",
     "text": [
      "explained_variance:  1.0\n",
      "mean_squared_log_error:  0.0\n",
      "r2:  1.0\n",
      "MAE:  0.1119\n",
      "MSE:  0.0195\n",
      "RMSE:  0.1395\n"
     ]
    }
   ],
   "source": [
    "y_true = y_test.values\n",
    "y_pred = best_model.predict(X_test)\n",
    "regression_results(y_true, y_pred)"
   ]
  },
  {
   "cell_type": "code",
   "execution_count": 86,
   "metadata": {},
   "outputs": [
    {
     "name": "stdout",
     "output_type": "stream",
     "text": [
      "explained_variance:  0.8097\n",
      "mean_squared_log_error:  0.4116\n",
      "r2:  0.7969\n",
      "MAE:  7182949184438.882\n",
      "MSE:  3.435870304621695e+26\n",
      "RMSE:  18536100735110.65\n"
     ]
    }
   ],
   "source": [
    "y_true = y_test.values\n",
    "y_pred = rf_best_model.predict(X_test)\n",
    "regression_results(y_true, y_pred)"
   ]
  },
  {
   "cell_type": "code",
   "execution_count": null,
   "metadata": {},
   "outputs": [],
   "source": []
  }
 ],
 "metadata": {
  "kernelspec": {
   "display_name": "Python 3 (ipykernel)",
   "language": "python",
   "name": "python3"
  },
  "language_info": {
   "codemirror_mode": {
    "name": "ipython",
    "version": 3
   },
   "file_extension": ".py",
   "mimetype": "text/x-python",
   "name": "python",
   "nbconvert_exporter": "python",
   "pygments_lexer": "ipython3",
   "version": "3.9.7"
  }
 },
 "nbformat": 4,
 "nbformat_minor": 2
}
